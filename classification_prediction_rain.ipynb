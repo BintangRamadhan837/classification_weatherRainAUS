{
 "cells": [
  {
   "cell_type": "markdown",
   "metadata": {},
   "source": [
    "# Perkenalan"
   ]
  },
  {
   "cell_type": "markdown",
   "metadata": {},
   "source": [
    "Muhammad Bintang Ramadhan  \n",
    "Data Science Batch 08"
   ]
  },
  {
   "cell_type": "markdown",
   "metadata": {},
   "source": [
    "-   Problem\n",
    "    -   Suatu hari Doni berencana berkencan dengan pacarnya besok pada tanggal 14-Februari-2022, Doni ingin berkencan menggunakan motor akan tetapi doni ragu apakah besok akan hujan, jika hujan doni akan menyewa mobil tetapi harus booking sewa mobil pada hari ini juga. Oleh karena itu, doni meminta tolong saya untuk memprediksi apakah besok akan hujan atau tidak.\n",
    "-   Objective\n",
    "    -   Saya akan memprediksi masalah doni menggunakan machine learning classification model SVM atau Logistic Regression, dengan mempelajari pola Cuaca Hujan disana menggunakan dataset weather-rain-AUS.\n",
    "    -   Cuaca Hari itu (13-Februari-2022):\n",
    "        -   Date: 2022-02-13\n",
    "        -    Location: NorfolkIsland\n",
    "        -   MinTemp : 15.9\n",
    "        -    MaxTemp : 21.9\n",
    "        -    Rainfall : 0.6\n",
    "        -    Evaporation : 4.6\n",
    "        -    WindGustDir : W\n",
    "        -    WindGustSpeed : 54.0\n",
    "        -    WindDir9am: W\n",
    "        -    WindDir3pm : WNW\n",
    "        -    WindSpeed9am: 24.0\n",
    "        -    WindSpeed3pm: 22.0\n",
    "        -    distance: 3.4\n",
    "        -    Humidity9am: 61.0\n",
    "        -    Humidity3pm: 75.0\n",
    "        -    Pressure9am: 1013.6\n",
    "        -    Pressure3pm: 1010.4\n",
    "        -    Cloud9am: \n",
    "        -    Cloud3pm: 8.0\n",
    "        -    Temp9am: 20.9\n",
    "        -    Temp3pm: 20.3\n",
    "        -    RainToday: No"
   ]
  },
  {
   "cell_type": "markdown",
   "metadata": {},
   "source": [
    "# Import Library"
   ]
  },
  {
   "cell_type": "code",
   "execution_count": 1,
   "metadata": {},
   "outputs": [],
   "source": [
    "import warnings\n",
    "warnings.simplefilter(\"ignore\")\n",
    "\n",
    "import pandas as pd\n",
    "import numpy as np\n",
    "import sklearn\n",
    "import matplotlib.pyplot as plt\n",
    "import seaborn as sns\n",
    "\n",
    "#Preprocessing\n",
    "from sklearn.preprocessing import StandardScaler, OneHotEncoder\n",
    "from sklearn.pipeline import Pipeline\n",
    "from sklearn.compose import ColumnTransformer\n",
    "from sklearn.impute import SimpleImputer\n",
    "\n",
    "# Modelling\n",
    "from sklearn.linear_model import LogisticRegression\n",
    "from sklearn.svm import SVC\n",
    "\n",
    "#Evaluasi Model\n",
    "from sklearn import metrics\n",
    "from sklearn.metrics import classification_report\n",
    "from sklearn.model_selection import cross_val_score\n",
    "from sklearn.model_selection import GridSearchCV"
   ]
  },
  {
   "cell_type": "markdown",
   "metadata": {},
   "source": [
    "# Data Loading"
   ]
  },
  {
   "cell_type": "code",
   "execution_count": 2,
   "metadata": {},
   "outputs": [
    {
     "data": {
      "text/html": [
       "<div>\n",
       "<style scoped>\n",
       "    .dataframe tbody tr th:only-of-type {\n",
       "        vertical-align: middle;\n",
       "    }\n",
       "\n",
       "    .dataframe tbody tr th {\n",
       "        vertical-align: top;\n",
       "    }\n",
       "\n",
       "    .dataframe thead th {\n",
       "        text-align: right;\n",
       "    }\n",
       "</style>\n",
       "<table border=\"1\" class=\"dataframe\">\n",
       "  <thead>\n",
       "    <tr style=\"text-align: right;\">\n",
       "      <th></th>\n",
       "      <th>Date</th>\n",
       "      <th>Location</th>\n",
       "      <th>MinTemp</th>\n",
       "      <th>MaxTemp</th>\n",
       "      <th>Rainfall</th>\n",
       "      <th>Evaporation</th>\n",
       "      <th>Sunshine</th>\n",
       "      <th>WindGustDir</th>\n",
       "      <th>WindGustSpeed</th>\n",
       "      <th>WindDir9am</th>\n",
       "      <th>WindDir3pm</th>\n",
       "      <th>WindSpeed9am</th>\n",
       "      <th>WindSpeed3pm</th>\n",
       "      <th>Humidity9am</th>\n",
       "      <th>Humidity3pm</th>\n",
       "      <th>Pressure9am</th>\n",
       "      <th>Pressure3pm</th>\n",
       "      <th>Cloud9am</th>\n",
       "      <th>Cloud3pm</th>\n",
       "      <th>Temp9am</th>\n",
       "      <th>Temp3pm</th>\n",
       "      <th>RainToday</th>\n",
       "      <th>RainTomorrow</th>\n",
       "    </tr>\n",
       "  </thead>\n",
       "  <tbody>\n",
       "    <tr>\n",
       "      <th>0</th>\n",
       "      <td>2008-12-01</td>\n",
       "      <td>Albury</td>\n",
       "      <td>13.4</td>\n",
       "      <td>22.9</td>\n",
       "      <td>0.6</td>\n",
       "      <td>NaN</td>\n",
       "      <td>NaN</td>\n",
       "      <td>W</td>\n",
       "      <td>44.0</td>\n",
       "      <td>W</td>\n",
       "      <td>WNW</td>\n",
       "      <td>20.0</td>\n",
       "      <td>24.0</td>\n",
       "      <td>71.0</td>\n",
       "      <td>22.0</td>\n",
       "      <td>1007.7</td>\n",
       "      <td>1007.1</td>\n",
       "      <td>8.0</td>\n",
       "      <td>NaN</td>\n",
       "      <td>16.9</td>\n",
       "      <td>21.8</td>\n",
       "      <td>No</td>\n",
       "      <td>No</td>\n",
       "    </tr>\n",
       "    <tr>\n",
       "      <th>1</th>\n",
       "      <td>2008-12-02</td>\n",
       "      <td>Albury</td>\n",
       "      <td>7.4</td>\n",
       "      <td>25.1</td>\n",
       "      <td>0.0</td>\n",
       "      <td>NaN</td>\n",
       "      <td>NaN</td>\n",
       "      <td>WNW</td>\n",
       "      <td>44.0</td>\n",
       "      <td>NNW</td>\n",
       "      <td>WSW</td>\n",
       "      <td>4.0</td>\n",
       "      <td>22.0</td>\n",
       "      <td>44.0</td>\n",
       "      <td>25.0</td>\n",
       "      <td>1010.6</td>\n",
       "      <td>1007.8</td>\n",
       "      <td>NaN</td>\n",
       "      <td>NaN</td>\n",
       "      <td>17.2</td>\n",
       "      <td>24.3</td>\n",
       "      <td>No</td>\n",
       "      <td>No</td>\n",
       "    </tr>\n",
       "    <tr>\n",
       "      <th>2</th>\n",
       "      <td>2008-12-03</td>\n",
       "      <td>Albury</td>\n",
       "      <td>12.9</td>\n",
       "      <td>25.7</td>\n",
       "      <td>0.0</td>\n",
       "      <td>NaN</td>\n",
       "      <td>NaN</td>\n",
       "      <td>WSW</td>\n",
       "      <td>46.0</td>\n",
       "      <td>W</td>\n",
       "      <td>WSW</td>\n",
       "      <td>19.0</td>\n",
       "      <td>26.0</td>\n",
       "      <td>38.0</td>\n",
       "      <td>30.0</td>\n",
       "      <td>1007.6</td>\n",
       "      <td>1008.7</td>\n",
       "      <td>NaN</td>\n",
       "      <td>2.0</td>\n",
       "      <td>21.0</td>\n",
       "      <td>23.2</td>\n",
       "      <td>No</td>\n",
       "      <td>No</td>\n",
       "    </tr>\n",
       "    <tr>\n",
       "      <th>3</th>\n",
       "      <td>2008-12-04</td>\n",
       "      <td>Albury</td>\n",
       "      <td>9.2</td>\n",
       "      <td>28.0</td>\n",
       "      <td>0.0</td>\n",
       "      <td>NaN</td>\n",
       "      <td>NaN</td>\n",
       "      <td>NE</td>\n",
       "      <td>24.0</td>\n",
       "      <td>SE</td>\n",
       "      <td>E</td>\n",
       "      <td>11.0</td>\n",
       "      <td>9.0</td>\n",
       "      <td>45.0</td>\n",
       "      <td>16.0</td>\n",
       "      <td>1017.6</td>\n",
       "      <td>1012.8</td>\n",
       "      <td>NaN</td>\n",
       "      <td>NaN</td>\n",
       "      <td>18.1</td>\n",
       "      <td>26.5</td>\n",
       "      <td>No</td>\n",
       "      <td>No</td>\n",
       "    </tr>\n",
       "    <tr>\n",
       "      <th>4</th>\n",
       "      <td>2008-12-05</td>\n",
       "      <td>Albury</td>\n",
       "      <td>17.5</td>\n",
       "      <td>32.3</td>\n",
       "      <td>1.0</td>\n",
       "      <td>NaN</td>\n",
       "      <td>NaN</td>\n",
       "      <td>W</td>\n",
       "      <td>41.0</td>\n",
       "      <td>ENE</td>\n",
       "      <td>NW</td>\n",
       "      <td>7.0</td>\n",
       "      <td>20.0</td>\n",
       "      <td>82.0</td>\n",
       "      <td>33.0</td>\n",
       "      <td>1010.8</td>\n",
       "      <td>1006.0</td>\n",
       "      <td>7.0</td>\n",
       "      <td>8.0</td>\n",
       "      <td>17.8</td>\n",
       "      <td>29.7</td>\n",
       "      <td>No</td>\n",
       "      <td>No</td>\n",
       "    </tr>\n",
       "  </tbody>\n",
       "</table>\n",
       "</div>"
      ],
      "text/plain": [
       "         Date Location  MinTemp  MaxTemp  Rainfall  Evaporation  Sunshine  \\\n",
       "0  2008-12-01   Albury     13.4     22.9       0.6          NaN       NaN   \n",
       "1  2008-12-02   Albury      7.4     25.1       0.0          NaN       NaN   \n",
       "2  2008-12-03   Albury     12.9     25.7       0.0          NaN       NaN   \n",
       "3  2008-12-04   Albury      9.2     28.0       0.0          NaN       NaN   \n",
       "4  2008-12-05   Albury     17.5     32.3       1.0          NaN       NaN   \n",
       "\n",
       "  WindGustDir  WindGustSpeed WindDir9am WindDir3pm  WindSpeed9am  \\\n",
       "0           W           44.0          W        WNW          20.0   \n",
       "1         WNW           44.0        NNW        WSW           4.0   \n",
       "2         WSW           46.0          W        WSW          19.0   \n",
       "3          NE           24.0         SE          E          11.0   \n",
       "4           W           41.0        ENE         NW           7.0   \n",
       "\n",
       "   WindSpeed3pm  Humidity9am  Humidity3pm  Pressure9am  Pressure3pm  Cloud9am  \\\n",
       "0          24.0         71.0         22.0       1007.7       1007.1       8.0   \n",
       "1          22.0         44.0         25.0       1010.6       1007.8       NaN   \n",
       "2          26.0         38.0         30.0       1007.6       1008.7       NaN   \n",
       "3           9.0         45.0         16.0       1017.6       1012.8       NaN   \n",
       "4          20.0         82.0         33.0       1010.8       1006.0       7.0   \n",
       "\n",
       "   Cloud3pm  Temp9am  Temp3pm RainToday RainTomorrow  \n",
       "0       NaN     16.9     21.8        No           No  \n",
       "1       NaN     17.2     24.3        No           No  \n",
       "2       2.0     21.0     23.2        No           No  \n",
       "3       NaN     18.1     26.5        No           No  \n",
       "4       8.0     17.8     29.7        No           No  "
      ]
     },
     "execution_count": 2,
     "metadata": {},
     "output_type": "execute_result"
    }
   ],
   "source": [
    "# Load data menggunakan pandas\n",
    "pd.set_option('display.max_columns', 50) #Untuk memunculkan seluruh column\n",
    "df_ori = pd.read_csv('weatherAUS.csv') #Load data weatherAUS\n",
    "df = df_ori.copy() #menduplikasi data original\n",
    "df.head() #memunculkan 5 data teratas"
   ]
  },
  {
   "cell_type": "markdown",
   "metadata": {},
   "source": [
    "# Exploratory Data Analysis (EDA)"
   ]
  },
  {
   "cell_type": "code",
   "execution_count": 3,
   "metadata": {},
   "outputs": [
    {
     "name": "stdout",
     "output_type": "stream",
     "text": [
      "<class 'pandas.core.frame.DataFrame'>\n",
      "RangeIndex: 145460 entries, 0 to 145459\n",
      "Data columns (total 23 columns):\n",
      " #   Column         Non-Null Count   Dtype  \n",
      "---  ------         --------------   -----  \n",
      " 0   Date           145460 non-null  object \n",
      " 1   Location       145460 non-null  object \n",
      " 2   MinTemp        143975 non-null  float64\n",
      " 3   MaxTemp        144199 non-null  float64\n",
      " 4   Rainfall       142199 non-null  float64\n",
      " 5   Evaporation    82670 non-null   float64\n",
      " 6   Sunshine       75625 non-null   float64\n",
      " 7   WindGustDir    135134 non-null  object \n",
      " 8   WindGustSpeed  135197 non-null  float64\n",
      " 9   WindDir9am     134894 non-null  object \n",
      " 10  WindDir3pm     141232 non-null  object \n",
      " 11  WindSpeed9am   143693 non-null  float64\n",
      " 12  WindSpeed3pm   142398 non-null  float64\n",
      " 13  Humidity9am    142806 non-null  float64\n",
      " 14  Humidity3pm    140953 non-null  float64\n",
      " 15  Pressure9am    130395 non-null  float64\n",
      " 16  Pressure3pm    130432 non-null  float64\n",
      " 17  Cloud9am       89572 non-null   float64\n",
      " 18  Cloud3pm       86102 non-null   float64\n",
      " 19  Temp9am        143693 non-null  float64\n",
      " 20  Temp3pm        141851 non-null  float64\n",
      " 21  RainToday      142199 non-null  object \n",
      " 22  RainTomorrow   142193 non-null  object \n",
      "dtypes: float64(16), object(7)\n",
      "memory usage: 25.5+ MB\n"
     ]
    }
   ],
   "source": [
    "#melihat info dataframe weatherAUS\n",
    "df.info()"
   ]
  },
  {
   "cell_type": "markdown",
   "metadata": {},
   "source": [
    "-   Terdapat 23 columns dan 145460 rows atau data.\n",
    "-   Terdapat beberapa Missing Value pada column.\n",
    "-   Terdapat dua tipe data yaitu float64 16 columns dan object 7 columns"
   ]
  },
  {
   "cell_type": "markdown",
   "metadata": {},
   "source": [
    "Karna kemungkinan beberapa column memiliki Missing Value, maka akan saya cek column apa saja dan berapa jumlahnya."
   ]
  },
  {
   "cell_type": "code",
   "execution_count": 4,
   "metadata": {},
   "outputs": [
    {
     "data": {
      "text/html": [
       "<div>\n",
       "<style scoped>\n",
       "    .dataframe tbody tr th:only-of-type {\n",
       "        vertical-align: middle;\n",
       "    }\n",
       "\n",
       "    .dataframe tbody tr th {\n",
       "        vertical-align: top;\n",
       "    }\n",
       "\n",
       "    .dataframe thead th {\n",
       "        text-align: right;\n",
       "    }\n",
       "</style>\n",
       "<table border=\"1\" class=\"dataframe\">\n",
       "  <thead>\n",
       "    <tr style=\"text-align: right;\">\n",
       "      <th></th>\n",
       "      <th>Missing Value</th>\n",
       "      <th>Missing Value %</th>\n",
       "    </tr>\n",
       "  </thead>\n",
       "  <tbody>\n",
       "    <tr>\n",
       "      <th>MinTemp</th>\n",
       "      <td>1485</td>\n",
       "      <td>1.0</td>\n",
       "    </tr>\n",
       "    <tr>\n",
       "      <th>MaxTemp</th>\n",
       "      <td>1261</td>\n",
       "      <td>1.0</td>\n",
       "    </tr>\n",
       "    <tr>\n",
       "      <th>Rainfall</th>\n",
       "      <td>3261</td>\n",
       "      <td>2.0</td>\n",
       "    </tr>\n",
       "    <tr>\n",
       "      <th>Evaporation</th>\n",
       "      <td>62790</td>\n",
       "      <td>43.0</td>\n",
       "    </tr>\n",
       "    <tr>\n",
       "      <th>Sunshine</th>\n",
       "      <td>69835</td>\n",
       "      <td>48.0</td>\n",
       "    </tr>\n",
       "    <tr>\n",
       "      <th>WindGustDir</th>\n",
       "      <td>10326</td>\n",
       "      <td>7.0</td>\n",
       "    </tr>\n",
       "    <tr>\n",
       "      <th>WindGustSpeed</th>\n",
       "      <td>10263</td>\n",
       "      <td>7.0</td>\n",
       "    </tr>\n",
       "    <tr>\n",
       "      <th>WindDir9am</th>\n",
       "      <td>10566</td>\n",
       "      <td>7.0</td>\n",
       "    </tr>\n",
       "    <tr>\n",
       "      <th>WindDir3pm</th>\n",
       "      <td>4228</td>\n",
       "      <td>3.0</td>\n",
       "    </tr>\n",
       "    <tr>\n",
       "      <th>WindSpeed9am</th>\n",
       "      <td>1767</td>\n",
       "      <td>1.0</td>\n",
       "    </tr>\n",
       "    <tr>\n",
       "      <th>WindSpeed3pm</th>\n",
       "      <td>3062</td>\n",
       "      <td>2.0</td>\n",
       "    </tr>\n",
       "    <tr>\n",
       "      <th>Humidity9am</th>\n",
       "      <td>2654</td>\n",
       "      <td>2.0</td>\n",
       "    </tr>\n",
       "    <tr>\n",
       "      <th>Humidity3pm</th>\n",
       "      <td>4507</td>\n",
       "      <td>3.0</td>\n",
       "    </tr>\n",
       "    <tr>\n",
       "      <th>Pressure9am</th>\n",
       "      <td>15065</td>\n",
       "      <td>10.0</td>\n",
       "    </tr>\n",
       "    <tr>\n",
       "      <th>Pressure3pm</th>\n",
       "      <td>15028</td>\n",
       "      <td>10.0</td>\n",
       "    </tr>\n",
       "    <tr>\n",
       "      <th>Cloud9am</th>\n",
       "      <td>55888</td>\n",
       "      <td>38.0</td>\n",
       "    </tr>\n",
       "    <tr>\n",
       "      <th>Cloud3pm</th>\n",
       "      <td>59358</td>\n",
       "      <td>41.0</td>\n",
       "    </tr>\n",
       "    <tr>\n",
       "      <th>Temp9am</th>\n",
       "      <td>1767</td>\n",
       "      <td>1.0</td>\n",
       "    </tr>\n",
       "    <tr>\n",
       "      <th>Temp3pm</th>\n",
       "      <td>3609</td>\n",
       "      <td>2.0</td>\n",
       "    </tr>\n",
       "    <tr>\n",
       "      <th>RainToday</th>\n",
       "      <td>3261</td>\n",
       "      <td>2.0</td>\n",
       "    </tr>\n",
       "    <tr>\n",
       "      <th>RainTomorrow</th>\n",
       "      <td>3267</td>\n",
       "      <td>2.0</td>\n",
       "    </tr>\n",
       "  </tbody>\n",
       "</table>\n",
       "</div>"
      ],
      "text/plain": [
       "               Missing Value  Missing Value %\n",
       "MinTemp                 1485              1.0\n",
       "MaxTemp                 1261              1.0\n",
       "Rainfall                3261              2.0\n",
       "Evaporation            62790             43.0\n",
       "Sunshine               69835             48.0\n",
       "WindGustDir            10326              7.0\n",
       "WindGustSpeed          10263              7.0\n",
       "WindDir9am             10566              7.0\n",
       "WindDir3pm              4228              3.0\n",
       "WindSpeed9am            1767              1.0\n",
       "WindSpeed3pm            3062              2.0\n",
       "Humidity9am             2654              2.0\n",
       "Humidity3pm             4507              3.0\n",
       "Pressure9am            15065             10.0\n",
       "Pressure3pm            15028             10.0\n",
       "Cloud9am               55888             38.0\n",
       "Cloud3pm               59358             41.0\n",
       "Temp9am                 1767              1.0\n",
       "Temp3pm                 3609              2.0\n",
       "RainToday               3261              2.0\n",
       "RainTomorrow            3267              2.0"
      ]
     },
     "execution_count": 4,
     "metadata": {},
     "output_type": "execute_result"
    }
   ],
   "source": [
    "#Mengecek Jumlah dan berapa persen Missing Value di Fitur 'Price' \n",
    "mis = df.isnull().sum() #Jumlah Missing Value\n",
    "misperc = df.isnull().sum() /len(df) *100 #Berapa persen Missing Value\n",
    "misval = pd.DataFrame({'Missing Value' :mis,'Missing Value %': round(misperc)}) #Julah Missing Value dan Berapa persen Missing Value kedalam sebuah DataFrame\n",
    "misval[misval['Missing Value'] > 0] #Hanya menampilkan yang memiliki Missing Value "
   ]
  },
  {
   "cell_type": "code",
   "execution_count": 5,
   "metadata": {},
   "outputs": [
    {
     "data": {
      "text/html": [
       "<div>\n",
       "<style scoped>\n",
       "    .dataframe tbody tr th:only-of-type {\n",
       "        vertical-align: middle;\n",
       "    }\n",
       "\n",
       "    .dataframe tbody tr th {\n",
       "        vertical-align: top;\n",
       "    }\n",
       "\n",
       "    .dataframe thead th {\n",
       "        text-align: right;\n",
       "    }\n",
       "</style>\n",
       "<table border=\"1\" class=\"dataframe\">\n",
       "  <thead>\n",
       "    <tr style=\"text-align: right;\">\n",
       "      <th></th>\n",
       "      <th>Date</th>\n",
       "      <th>Location</th>\n",
       "      <th>MinTemp</th>\n",
       "      <th>MaxTemp</th>\n",
       "      <th>Rainfall</th>\n",
       "      <th>Evaporation</th>\n",
       "      <th>Sunshine</th>\n",
       "      <th>WindGustDir</th>\n",
       "      <th>WindGustSpeed</th>\n",
       "      <th>WindDir9am</th>\n",
       "      <th>WindDir3pm</th>\n",
       "      <th>WindSpeed9am</th>\n",
       "      <th>WindSpeed3pm</th>\n",
       "      <th>Humidity9am</th>\n",
       "      <th>Humidity3pm</th>\n",
       "      <th>Pressure9am</th>\n",
       "      <th>Pressure3pm</th>\n",
       "      <th>Cloud9am</th>\n",
       "      <th>Cloud3pm</th>\n",
       "      <th>Temp9am</th>\n",
       "      <th>Temp3pm</th>\n",
       "      <th>RainToday</th>\n",
       "      <th>RainTomorrow</th>\n",
       "    </tr>\n",
       "  </thead>\n",
       "  <tbody>\n",
       "    <tr>\n",
       "      <th>15</th>\n",
       "      <td>2008-12-16</td>\n",
       "      <td>Albury</td>\n",
       "      <td>9.8</td>\n",
       "      <td>27.7</td>\n",
       "      <td>NaN</td>\n",
       "      <td>NaN</td>\n",
       "      <td>NaN</td>\n",
       "      <td>WNW</td>\n",
       "      <td>50.0</td>\n",
       "      <td>NaN</td>\n",
       "      <td>WNW</td>\n",
       "      <td>NaN</td>\n",
       "      <td>22.0</td>\n",
       "      <td>50.0</td>\n",
       "      <td>28.0</td>\n",
       "      <td>1013.4</td>\n",
       "      <td>1010.3</td>\n",
       "      <td>0.0</td>\n",
       "      <td>NaN</td>\n",
       "      <td>17.3</td>\n",
       "      <td>26.2</td>\n",
       "      <td>NaN</td>\n",
       "      <td>No</td>\n",
       "    </tr>\n",
       "    <tr>\n",
       "      <th>284</th>\n",
       "      <td>2009-09-11</td>\n",
       "      <td>Albury</td>\n",
       "      <td>NaN</td>\n",
       "      <td>18.8</td>\n",
       "      <td>NaN</td>\n",
       "      <td>NaN</td>\n",
       "      <td>NaN</td>\n",
       "      <td>N</td>\n",
       "      <td>31.0</td>\n",
       "      <td>SE</td>\n",
       "      <td>NNE</td>\n",
       "      <td>7.0</td>\n",
       "      <td>19.0</td>\n",
       "      <td>83.0</td>\n",
       "      <td>46.0</td>\n",
       "      <td>1022.2</td>\n",
       "      <td>1018.2</td>\n",
       "      <td>NaN</td>\n",
       "      <td>NaN</td>\n",
       "      <td>8.7</td>\n",
       "      <td>18.1</td>\n",
       "      <td>NaN</td>\n",
       "      <td>No</td>\n",
       "    </tr>\n",
       "    <tr>\n",
       "      <th>436</th>\n",
       "      <td>2010-02-10</td>\n",
       "      <td>Albury</td>\n",
       "      <td>21.7</td>\n",
       "      <td>35.6</td>\n",
       "      <td>NaN</td>\n",
       "      <td>NaN</td>\n",
       "      <td>NaN</td>\n",
       "      <td>SSW</td>\n",
       "      <td>46.0</td>\n",
       "      <td>NaN</td>\n",
       "      <td>S</td>\n",
       "      <td>NaN</td>\n",
       "      <td>15.0</td>\n",
       "      <td>64.0</td>\n",
       "      <td>28.0</td>\n",
       "      <td>1018.8</td>\n",
       "      <td>1014.7</td>\n",
       "      <td>NaN</td>\n",
       "      <td>4.0</td>\n",
       "      <td>25.2</td>\n",
       "      <td>32.9</td>\n",
       "      <td>NaN</td>\n",
       "      <td>No</td>\n",
       "    </tr>\n",
       "    <tr>\n",
       "      <th>438</th>\n",
       "      <td>2010-02-12</td>\n",
       "      <td>Albury</td>\n",
       "      <td>22.5</td>\n",
       "      <td>29.1</td>\n",
       "      <td>NaN</td>\n",
       "      <td>NaN</td>\n",
       "      <td>NaN</td>\n",
       "      <td>SW</td>\n",
       "      <td>24.0</td>\n",
       "      <td>NaN</td>\n",
       "      <td>NNW</td>\n",
       "      <td>NaN</td>\n",
       "      <td>11.0</td>\n",
       "      <td>81.0</td>\n",
       "      <td>67.0</td>\n",
       "      <td>1008.5</td>\n",
       "      <td>1007.8</td>\n",
       "      <td>NaN</td>\n",
       "      <td>7.0</td>\n",
       "      <td>23.4</td>\n",
       "      <td>26.4</td>\n",
       "      <td>NaN</td>\n",
       "      <td>No</td>\n",
       "    </tr>\n",
       "    <tr>\n",
       "      <th>444</th>\n",
       "      <td>2010-02-18</td>\n",
       "      <td>Albury</td>\n",
       "      <td>NaN</td>\n",
       "      <td>31.2</td>\n",
       "      <td>NaN</td>\n",
       "      <td>NaN</td>\n",
       "      <td>NaN</td>\n",
       "      <td>ESE</td>\n",
       "      <td>31.0</td>\n",
       "      <td>SSE</td>\n",
       "      <td>SSW</td>\n",
       "      <td>7.0</td>\n",
       "      <td>7.0</td>\n",
       "      <td>33.0</td>\n",
       "      <td>24.0</td>\n",
       "      <td>1020.4</td>\n",
       "      <td>1019.1</td>\n",
       "      <td>NaN</td>\n",
       "      <td>NaN</td>\n",
       "      <td>21.0</td>\n",
       "      <td>30.0</td>\n",
       "      <td>NaN</td>\n",
       "      <td>No</td>\n",
       "    </tr>\n",
       "  </tbody>\n",
       "</table>\n",
       "</div>"
      ],
      "text/plain": [
       "           Date Location  MinTemp  MaxTemp  Rainfall  Evaporation  Sunshine  \\\n",
       "15   2008-12-16   Albury      9.8     27.7       NaN          NaN       NaN   \n",
       "284  2009-09-11   Albury      NaN     18.8       NaN          NaN       NaN   \n",
       "436  2010-02-10   Albury     21.7     35.6       NaN          NaN       NaN   \n",
       "438  2010-02-12   Albury     22.5     29.1       NaN          NaN       NaN   \n",
       "444  2010-02-18   Albury      NaN     31.2       NaN          NaN       NaN   \n",
       "\n",
       "    WindGustDir  WindGustSpeed WindDir9am WindDir3pm  WindSpeed9am  \\\n",
       "15          WNW           50.0        NaN        WNW           NaN   \n",
       "284           N           31.0         SE        NNE           7.0   \n",
       "436         SSW           46.0        NaN          S           NaN   \n",
       "438          SW           24.0        NaN        NNW           NaN   \n",
       "444         ESE           31.0        SSE        SSW           7.0   \n",
       "\n",
       "     WindSpeed3pm  Humidity9am  Humidity3pm  Pressure9am  Pressure3pm  \\\n",
       "15           22.0         50.0         28.0       1013.4       1010.3   \n",
       "284          19.0         83.0         46.0       1022.2       1018.2   \n",
       "436          15.0         64.0         28.0       1018.8       1014.7   \n",
       "438          11.0         81.0         67.0       1008.5       1007.8   \n",
       "444           7.0         33.0         24.0       1020.4       1019.1   \n",
       "\n",
       "     Cloud9am  Cloud3pm  Temp9am  Temp3pm RainToday RainTomorrow  \n",
       "15        0.0       NaN     17.3     26.2       NaN           No  \n",
       "284       NaN       NaN      8.7     18.1       NaN           No  \n",
       "436       NaN       4.0     25.2     32.9       NaN           No  \n",
       "438       NaN       7.0     23.4     26.4       NaN           No  \n",
       "444       NaN       NaN     21.0     30.0       NaN           No  "
      ]
     },
     "execution_count": 5,
     "metadata": {},
     "output_type": "execute_result"
    }
   ],
   "source": [
    "df[df.RainToday.isnull()].head()"
   ]
  },
  {
   "cell_type": "markdown",
   "metadata": {},
   "source": [
    "### Mengecek Distribusi Data"
   ]
  },
  {
   "cell_type": "code",
   "execution_count": 6,
   "metadata": {},
   "outputs": [
    {
     "data": {
      "image/png": "[encoded data removed]",
      "text/plain": [
       "<Figure size 1440x936 with 16 Axes>"
      ]
     },
     "metadata": {
      "needs_background": "light"
     },
     "output_type": "display_data"
    }
   ],
   "source": [
    "df.hist(bins=25, figsize=(20,13))\n",
    "plt.show()"
   ]
  },
  {
   "cell_type": "markdown",
   "metadata": {},
   "source": [
    "Mengecek Nilai skewness"
   ]
  },
  {
   "cell_type": "code",
   "execution_count": 7,
   "metadata": {},
   "outputs": [
    {
     "name": "stdout",
     "output_type": "stream",
     "text": [
      "MinTemp\n",
      "Nilai Skew :  0.021188284011150468\n",
      "\n",
      "MaxTemp\n",
      "Nilai Skew :  0.22083934813407782\n",
      "\n",
      "Rainfall\n",
      "Nilai Skew :  9.83622525039533\n",
      "\n",
      "Evaporation\n",
      "Nilai Skew :  3.7612860111420643\n",
      "\n",
      "Sunshine\n",
      "Nilai Skew :  -0.4964800381328167\n",
      "\n",
      "WindGustSpeed\n",
      "Nilai Skew :  0.8748788780303394\n",
      "\n",
      "WindSpeed9am\n",
      "Nilai Skew :  0.7776295122810298\n",
      "\n",
      "WindSpeed3pm\n",
      "Nilai Skew :  0.6282154194116664\n",
      "\n",
      "Humidity9am\n",
      "Nilai Skew :  -0.48396899459793047\n",
      "\n",
      "Humidity3pm\n",
      "Nilai Skew :  0.03361436764166918\n",
      "\n",
      "Pressure9am\n",
      "Nilai Skew :  -0.09552363669451734\n",
      "\n",
      "Pressure3pm\n",
      "Nilai Skew :  -0.04562140480119886\n",
      "\n",
      "Cloud9am\n",
      "Nilai Skew :  -0.229081832248417\n",
      "\n",
      "Cloud3pm\n",
      "Nilai Skew :  -0.22638434607149094\n",
      "\n",
      "Temp9am\n",
      "Nilai Skew :  0.08853999659506906\n",
      "\n",
      "Temp3pm\n",
      "Nilai Skew :  0.2379603639909972\n",
      "\n"
     ]
    }
   ],
   "source": [
    "for var in df.select_dtypes(np.number): #Looping semua data dtrain Numerik\n",
    "    print(var)\n",
    "    print('Nilai Skew : ', df[var].skew()) #Nilai skewness dari tiap data numerik \n",
    "    # print('Nilai Skew % : ',round(df[var].skew() /len(df) *100, 2)) #Nilai skewness(%) dari tiap data numerik \n",
    "    print()"
   ]
  },
  {
   "cell_type": "markdown",
   "metadata": {},
   "source": [
    "-   Column Rainfall, Evaporation, WindGustSpeed, WindSpeed9am, WindSpeed3pm memiliki distribusi data Skewness +, sedangkan sisanya memiliki distribusi data Gaussian/Normal"
   ]
  },
  {
   "cell_type": "code",
   "execution_count": 8,
   "metadata": {},
   "outputs": [
    {
     "data": {
      "text/html": [
       "<div>\n",
       "<style scoped>\n",
       "    .dataframe tbody tr th:only-of-type {\n",
       "        vertical-align: middle;\n",
       "    }\n",
       "\n",
       "    .dataframe tbody tr th {\n",
       "        vertical-align: top;\n",
       "    }\n",
       "\n",
       "    .dataframe thead th {\n",
       "        text-align: right;\n",
       "    }\n",
       "</style>\n",
       "<table border=\"1\" class=\"dataframe\">\n",
       "  <thead>\n",
       "    <tr style=\"text-align: right;\">\n",
       "      <th></th>\n",
       "      <th>MinTemp</th>\n",
       "      <th>MaxTemp</th>\n",
       "      <th>Rainfall</th>\n",
       "      <th>Evaporation</th>\n",
       "      <th>Sunshine</th>\n",
       "      <th>WindGustSpeed</th>\n",
       "      <th>WindSpeed9am</th>\n",
       "      <th>WindSpeed3pm</th>\n",
       "      <th>Humidity9am</th>\n",
       "      <th>Humidity3pm</th>\n",
       "      <th>Pressure9am</th>\n",
       "      <th>Pressure3pm</th>\n",
       "      <th>Cloud9am</th>\n",
       "      <th>Cloud3pm</th>\n",
       "      <th>Temp9am</th>\n",
       "      <th>Temp3pm</th>\n",
       "    </tr>\n",
       "  </thead>\n",
       "  <tbody>\n",
       "    <tr>\n",
       "      <th>count</th>\n",
       "      <td>143975.000000</td>\n",
       "      <td>144199.000000</td>\n",
       "      <td>142199.000000</td>\n",
       "      <td>82670.000000</td>\n",
       "      <td>75625.000000</td>\n",
       "      <td>135197.000000</td>\n",
       "      <td>143693.000000</td>\n",
       "      <td>142398.000000</td>\n",
       "      <td>142806.000000</td>\n",
       "      <td>140953.000000</td>\n",
       "      <td>130395.00000</td>\n",
       "      <td>130432.000000</td>\n",
       "      <td>89572.000000</td>\n",
       "      <td>86102.000000</td>\n",
       "      <td>143693.000000</td>\n",
       "      <td>141851.00000</td>\n",
       "    </tr>\n",
       "    <tr>\n",
       "      <th>mean</th>\n",
       "      <td>12.194034</td>\n",
       "      <td>23.221348</td>\n",
       "      <td>2.360918</td>\n",
       "      <td>5.468232</td>\n",
       "      <td>7.611178</td>\n",
       "      <td>40.035230</td>\n",
       "      <td>14.043426</td>\n",
       "      <td>18.662657</td>\n",
       "      <td>68.880831</td>\n",
       "      <td>51.539116</td>\n",
       "      <td>1017.64994</td>\n",
       "      <td>1015.255889</td>\n",
       "      <td>4.447461</td>\n",
       "      <td>4.509930</td>\n",
       "      <td>16.990631</td>\n",
       "      <td>21.68339</td>\n",
       "    </tr>\n",
       "    <tr>\n",
       "      <th>std</th>\n",
       "      <td>6.398495</td>\n",
       "      <td>7.119049</td>\n",
       "      <td>8.478060</td>\n",
       "      <td>4.193704</td>\n",
       "      <td>3.785483</td>\n",
       "      <td>13.607062</td>\n",
       "      <td>8.915375</td>\n",
       "      <td>8.809800</td>\n",
       "      <td>19.029164</td>\n",
       "      <td>20.795902</td>\n",
       "      <td>7.10653</td>\n",
       "      <td>7.037414</td>\n",
       "      <td>2.887159</td>\n",
       "      <td>2.720357</td>\n",
       "      <td>6.488753</td>\n",
       "      <td>6.93665</td>\n",
       "    </tr>\n",
       "    <tr>\n",
       "      <th>min</th>\n",
       "      <td>-8.500000</td>\n",
       "      <td>-4.800000</td>\n",
       "      <td>0.000000</td>\n",
       "      <td>0.000000</td>\n",
       "      <td>0.000000</td>\n",
       "      <td>6.000000</td>\n",
       "      <td>0.000000</td>\n",
       "      <td>0.000000</td>\n",
       "      <td>0.000000</td>\n",
       "      <td>0.000000</td>\n",
       "      <td>980.50000</td>\n",
       "      <td>977.100000</td>\n",
       "      <td>0.000000</td>\n",
       "      <td>0.000000</td>\n",
       "      <td>-7.200000</td>\n",
       "      <td>-5.40000</td>\n",
       "    </tr>\n",
       "    <tr>\n",
       "      <th>25%</th>\n",
       "      <td>7.600000</td>\n",
       "      <td>17.900000</td>\n",
       "      <td>0.000000</td>\n",
       "      <td>2.600000</td>\n",
       "      <td>4.800000</td>\n",
       "      <td>31.000000</td>\n",
       "      <td>7.000000</td>\n",
       "      <td>13.000000</td>\n",
       "      <td>57.000000</td>\n",
       "      <td>37.000000</td>\n",
       "      <td>1012.90000</td>\n",
       "      <td>1010.400000</td>\n",
       "      <td>1.000000</td>\n",
       "      <td>2.000000</td>\n",
       "      <td>12.300000</td>\n",
       "      <td>16.60000</td>\n",
       "    </tr>\n",
       "    <tr>\n",
       "      <th>50%</th>\n",
       "      <td>12.000000</td>\n",
       "      <td>22.600000</td>\n",
       "      <td>0.000000</td>\n",
       "      <td>4.800000</td>\n",
       "      <td>8.400000</td>\n",
       "      <td>39.000000</td>\n",
       "      <td>13.000000</td>\n",
       "      <td>19.000000</td>\n",
       "      <td>70.000000</td>\n",
       "      <td>52.000000</td>\n",
       "      <td>1017.60000</td>\n",
       "      <td>1015.200000</td>\n",
       "      <td>5.000000</td>\n",
       "      <td>5.000000</td>\n",
       "      <td>16.700000</td>\n",
       "      <td>21.10000</td>\n",
       "    </tr>\n",
       "    <tr>\n",
       "      <th>75%</th>\n",
       "      <td>16.900000</td>\n",
       "      <td>28.200000</td>\n",
       "      <td>0.800000</td>\n",
       "      <td>7.400000</td>\n",
       "      <td>10.600000</td>\n",
       "      <td>48.000000</td>\n",
       "      <td>19.000000</td>\n",
       "      <td>24.000000</td>\n",
       "      <td>83.000000</td>\n",
       "      <td>66.000000</td>\n",
       "      <td>1022.40000</td>\n",
       "      <td>1020.000000</td>\n",
       "      <td>7.000000</td>\n",
       "      <td>7.000000</td>\n",
       "      <td>21.600000</td>\n",
       "      <td>26.40000</td>\n",
       "    </tr>\n",
       "    <tr>\n",
       "      <th>max</th>\n",
       "      <td>33.900000</td>\n",
       "      <td>48.100000</td>\n",
       "      <td>371.000000</td>\n",
       "      <td>145.000000</td>\n",
       "      <td>14.500000</td>\n",
       "      <td>135.000000</td>\n",
       "      <td>130.000000</td>\n",
       "      <td>87.000000</td>\n",
       "      <td>100.000000</td>\n",
       "      <td>100.000000</td>\n",
       "      <td>1041.00000</td>\n",
       "      <td>1039.600000</td>\n",
       "      <td>9.000000</td>\n",
       "      <td>9.000000</td>\n",
       "      <td>40.200000</td>\n",
       "      <td>46.70000</td>\n",
       "    </tr>\n",
       "  </tbody>\n",
       "</table>\n",
       "</div>"
      ],
      "text/plain": [
       "             MinTemp        MaxTemp       Rainfall   Evaporation  \\\n",
       "count  143975.000000  144199.000000  142199.000000  82670.000000   \n",
       "mean       12.194034      23.221348       2.360918      5.468232   \n",
       "std         6.398495       7.119049       8.478060      4.193704   \n",
       "min        -8.500000      -4.800000       0.000000      0.000000   \n",
       "25%         7.600000      17.900000       0.000000      2.600000   \n",
       "50%        12.000000      22.600000       0.000000      4.800000   \n",
       "75%        16.900000      28.200000       0.800000      7.400000   \n",
       "max        33.900000      48.100000     371.000000    145.000000   \n",
       "\n",
       "           Sunshine  WindGustSpeed   WindSpeed9am   WindSpeed3pm  \\\n",
       "count  75625.000000  135197.000000  143693.000000  142398.000000   \n",
       "mean       7.611178      40.035230      14.043426      18.662657   \n",
       "std        3.785483      13.607062       8.915375       8.809800   \n",
       "min        0.000000       6.000000       0.000000       0.000000   \n",
       "25%        4.800000      31.000000       7.000000      13.000000   \n",
       "50%        8.400000      39.000000      13.000000      19.000000   \n",
       "75%       10.600000      48.000000      19.000000      24.000000   \n",
       "max       14.500000     135.000000     130.000000      87.000000   \n",
       "\n",
       "         Humidity9am    Humidity3pm   Pressure9am    Pressure3pm  \\\n",
       "count  142806.000000  140953.000000  130395.00000  130432.000000   \n",
       "mean       68.880831      51.539116    1017.64994    1015.255889   \n",
       "std        19.029164      20.795902       7.10653       7.037414   \n",
       "min         0.000000       0.000000     980.50000     977.100000   \n",
       "25%        57.000000      37.000000    1012.90000    1010.400000   \n",
       "50%        70.000000      52.000000    1017.60000    1015.200000   \n",
       "75%        83.000000      66.000000    1022.40000    1020.000000   \n",
       "max       100.000000     100.000000    1041.00000    1039.600000   \n",
       "\n",
       "           Cloud9am      Cloud3pm        Temp9am       Temp3pm  \n",
       "count  89572.000000  86102.000000  143693.000000  141851.00000  \n",
       "mean       4.447461      4.509930      16.990631      21.68339  \n",
       "std        2.887159      2.720357       6.488753       6.93665  \n",
       "min        0.000000      0.000000      -7.200000      -5.40000  \n",
       "25%        1.000000      2.000000      12.300000      16.60000  \n",
       "50%        5.000000      5.000000      16.700000      21.10000  \n",
       "75%        7.000000      7.000000      21.600000      26.40000  \n",
       "max        9.000000      9.000000      40.200000      46.70000  "
      ]
     },
     "execution_count": 8,
     "metadata": {},
     "output_type": "execute_result"
    }
   ],
   "source": [
    "df.describe()"
   ]
  },
  {
   "cell_type": "code",
   "execution_count": 9,
   "metadata": {},
   "outputs": [
    {
     "data": {
      "text/html": [
       "<div>\n",
       "<style scoped>\n",
       "    .dataframe tbody tr th:only-of-type {\n",
       "        vertical-align: middle;\n",
       "    }\n",
       "\n",
       "    .dataframe tbody tr th {\n",
       "        vertical-align: top;\n",
       "    }\n",
       "\n",
       "    .dataframe thead th {\n",
       "        text-align: right;\n",
       "    }\n",
       "</style>\n",
       "<table border=\"1\" class=\"dataframe\">\n",
       "  <thead>\n",
       "    <tr style=\"text-align: right;\">\n",
       "      <th></th>\n",
       "      <th>Date</th>\n",
       "      <th>Location</th>\n",
       "      <th>WindGustDir</th>\n",
       "      <th>WindDir9am</th>\n",
       "      <th>WindDir3pm</th>\n",
       "      <th>RainToday</th>\n",
       "      <th>RainTomorrow</th>\n",
       "    </tr>\n",
       "  </thead>\n",
       "  <tbody>\n",
       "    <tr>\n",
       "      <th>count</th>\n",
       "      <td>145460</td>\n",
       "      <td>145460</td>\n",
       "      <td>135134</td>\n",
       "      <td>134894</td>\n",
       "      <td>141232</td>\n",
       "      <td>142199</td>\n",
       "      <td>142193</td>\n",
       "    </tr>\n",
       "    <tr>\n",
       "      <th>unique</th>\n",
       "      <td>3436</td>\n",
       "      <td>49</td>\n",
       "      <td>16</td>\n",
       "      <td>16</td>\n",
       "      <td>16</td>\n",
       "      <td>2</td>\n",
       "      <td>2</td>\n",
       "    </tr>\n",
       "    <tr>\n",
       "      <th>top</th>\n",
       "      <td>2013-11-12</td>\n",
       "      <td>Canberra</td>\n",
       "      <td>W</td>\n",
       "      <td>N</td>\n",
       "      <td>SE</td>\n",
       "      <td>No</td>\n",
       "      <td>No</td>\n",
       "    </tr>\n",
       "    <tr>\n",
       "      <th>freq</th>\n",
       "      <td>49</td>\n",
       "      <td>3436</td>\n",
       "      <td>9915</td>\n",
       "      <td>11758</td>\n",
       "      <td>10838</td>\n",
       "      <td>110319</td>\n",
       "      <td>110316</td>\n",
       "    </tr>\n",
       "  </tbody>\n",
       "</table>\n",
       "</div>"
      ],
      "text/plain": [
       "              Date  Location WindGustDir WindDir9am WindDir3pm RainToday  \\\n",
       "count       145460    145460      135134     134894     141232    142199   \n",
       "unique        3436        49          16         16         16         2   \n",
       "top     2013-11-12  Canberra           W          N         SE        No   \n",
       "freq            49      3436        9915      11758      10838    110319   \n",
       "\n",
       "       RainTomorrow  \n",
       "count        142193  \n",
       "unique            2  \n",
       "top              No  \n",
       "freq         110316  "
      ]
     },
     "execution_count": 9,
     "metadata": {},
     "output_type": "execute_result"
    }
   ],
   "source": [
    "df.describe(include='object')"
   ]
  },
  {
   "cell_type": "markdown",
   "metadata": {},
   "source": [
    "-   Dataset tediri dari 49 lokasi\n",
    "-   Lokasi Canbera terbanyak dari dataset tersebut\n",
    "-   RainTomorrow (target) lebih banyak yang tidak hujan ('no')"
   ]
  },
  {
   "cell_type": "code",
   "execution_count": 10,
   "metadata": {},
   "outputs": [
    {
     "data": {
      "image/png": "[encoded data removed]",
      "text/plain": [
       "<Figure size 1080x720 with 1 Axes>"
      ]
     },
     "metadata": {
      "needs_background": "light"
     },
     "output_type": "display_data"
    }
   ],
   "source": [
    "plt.figure(figsize=(15,10))\n",
    "sns.histplot(df, x=df['RainTomorrow'], hue=df['RainTomorrow'], multiple='dodge')\n",
    "plt.show()"
   ]
  },
  {
   "cell_type": "markdown",
   "metadata": {},
   "source": [
    "Dalam dataset ini lebih banyak data yang tidak akan hujan pada keeseokan harinya. "
   ]
  },
  {
   "cell_type": "code",
   "execution_count": 11,
   "metadata": {},
   "outputs": [
    {
     "data": {
      "image/png": "[encoded data removed]",
      "text/plain": [
       "<Figure size 1800x720 with 2 Axes>"
      ]
     },
     "metadata": {
      "needs_background": "light"
     },
     "output_type": "display_data"
    }
   ],
   "source": [
    "plt.rcParams['figure.figsize'] = (25,10) #Ukuran Plot\n",
    "\n",
    "#plot 1\n",
    "plt.subplot(1,2,1)\n",
    "sns.histplot(data=df, x=df['Cloud9am'],hue=df['RainTomorrow'], multiple='dodge') #Melihat jumlah lxft dan uber\n",
    "\n",
    "#plot 2\n",
    "plt.subplot(1,2,2)\n",
    "sns.histplot(data=df, x=df['Cloud3pm'],hue=df['RainTomorrow'], multiple='dodge') #Melihat Jumlah jenis-jenis kendaraan\n",
    "\n",
    "plt.show()"
   ]
  },
  {
   "cell_type": "markdown",
   "metadata": {},
   "source": [
    "- Jika Cloud9am 8 maka besok akan hujan, begitu juga dengan cloud3pm."
   ]
  },
  {
   "cell_type": "code",
   "execution_count": 12,
   "metadata": {},
   "outputs": [
    {
     "data": {
      "image/png": "[encoded data removed]",
      "text/plain": [
       "<Figure size 1080x720 with 1 Axes>"
      ]
     },
     "metadata": {
      "needs_background": "light"
     },
     "output_type": "display_data"
    }
   ],
   "source": [
    "plt.figure(figsize=(15,10))\n",
    "sns.histplot(df, y=df['Location'], hue=df['RainTomorrow'], multiple='dodge')\n",
    "plt.show()"
   ]
  },
  {
   "cell_type": "markdown",
   "metadata": {},
   "source": [
    "-   Dalam dataset ini kota yang paling sering hujan keesokan harinya adalah kota Portland."
   ]
  },
  {
   "cell_type": "code",
   "execution_count": 13,
   "metadata": {},
   "outputs": [
    {
     "data": {
      "image/png": "[encoded data removed]",
      "text/plain": [
       "<Figure size 1800x720 with 2 Axes>"
      ]
     },
     "metadata": {
      "needs_background": "light"
     },
     "output_type": "display_data"
    }
   ],
   "source": [
    "plt.rcParams['figure.figsize'] = (25,10) #Ukuran Plot\n",
    "\n",
    "#plot 1\n",
    "plt.subplot(1,2,1)\n",
    "sns.histplot(data=df, x=df['Temp9am'],hue=df['RainTomorrow'], multiple='dodge') #Melihat jumlah lxft dan uber\n",
    "\n",
    "#plot 2\n",
    "plt.subplot(1,2,2)\n",
    "sns.histplot(data=df, x=df['Temp3pm'],hue=df['RainTomorrow'], multiple='dodge') #Melihat Jumlah jenis-jenis kendaraan\n",
    "\n",
    "plt.show()"
   ]
  },
  {
   "cell_type": "code",
   "execution_count": 14,
   "metadata": {},
   "outputs": [
    {
     "data": {
      "image/png": "[encoded data removed]",
      "text/plain": [
       "<Figure size 1800x720 with 2 Axes>"
      ]
     },
     "metadata": {
      "needs_background": "light"
     },
     "output_type": "display_data"
    }
   ],
   "source": [
    "plt.rcParams['figure.figsize'] = (25,10) #Ukuran Plot\n",
    "\n",
    "#plot 1\n",
    "plt.subplot(1,2,1)\n",
    "sns.histplot(data=df, x=df['MinTemp'],hue=df['RainTomorrow'], multiple='dodge') #Melihat jumlah lxft dan uber\n",
    "\n",
    "#plot 2\n",
    "plt.subplot(1,2,2)\n",
    "sns.histplot(data=df, x=df['MaxTemp'],hue=df['RainTomorrow'], multiple='dodge') #Melihat Jumlah jenis-jenis kendaraan\n",
    "\n",
    "plt.show()"
   ]
  },
  {
   "cell_type": "code",
   "execution_count": 15,
   "metadata": {},
   "outputs": [
    {
     "data": {
      "image/png": "[encoded data removed]",
      "text/plain": [
       "<Figure size 1800x720 with 2 Axes>"
      ]
     },
     "metadata": {
      "needs_background": "light"
     },
     "output_type": "display_data"
    }
   ],
   "source": [
    "plt.rcParams['figure.figsize'] = (25,10) #Ukuran Plot\n",
    "\n",
    "#plot 1\n",
    "plt.subplot(1,2,1)\n",
    "sns.histplot(data=df, x=df['Humidity9am'],hue=df['RainTomorrow'], multiple='dodge') #Melihat jumlah lxft dan uber\n",
    "\n",
    "#plot 2\n",
    "plt.subplot(1,2,2)\n",
    "sns.histplot(data=df, x=df['Humidity3pm'],hue=df['RainTomorrow'], multiple='dodge') #Melihat Jumlah jenis-jenis kendaraan\n",
    "\n",
    "plt.show()"
   ]
  },
  {
   "cell_type": "markdown",
   "metadata": {},
   "source": [
    "# Data Preprocessing"
   ]
  },
  {
   "cell_type": "markdown",
   "metadata": {},
   "source": [
    "## Get Data Inference"
   ]
  },
  {
   "cell_type": "code",
   "execution_count": 16,
   "metadata": {},
   "outputs": [
    {
     "data": {
      "text/html": [
       "<div>\n",
       "<style scoped>\n",
       "    .dataframe tbody tr th:only-of-type {\n",
       "        vertical-align: middle;\n",
       "    }\n",
       "\n",
       "    .dataframe tbody tr th {\n",
       "        vertical-align: top;\n",
       "    }\n",
       "\n",
       "    .dataframe thead th {\n",
       "        text-align: right;\n",
       "    }\n",
       "</style>\n",
       "<table border=\"1\" class=\"dataframe\">\n",
       "  <thead>\n",
       "    <tr style=\"text-align: right;\">\n",
       "      <th></th>\n",
       "      <th>Date</th>\n",
       "      <th>Location</th>\n",
       "      <th>MinTemp</th>\n",
       "      <th>MaxTemp</th>\n",
       "      <th>Rainfall</th>\n",
       "      <th>Evaporation</th>\n",
       "      <th>Sunshine</th>\n",
       "      <th>WindGustDir</th>\n",
       "      <th>WindGustSpeed</th>\n",
       "      <th>WindDir9am</th>\n",
       "      <th>WindDir3pm</th>\n",
       "      <th>WindSpeed9am</th>\n",
       "      <th>WindSpeed3pm</th>\n",
       "      <th>Humidity9am</th>\n",
       "      <th>Humidity3pm</th>\n",
       "      <th>Pressure9am</th>\n",
       "      <th>Pressure3pm</th>\n",
       "      <th>Cloud9am</th>\n",
       "      <th>Cloud3pm</th>\n",
       "      <th>Temp9am</th>\n",
       "      <th>Temp3pm</th>\n",
       "      <th>RainToday</th>\n",
       "      <th>RainTomorrow</th>\n",
       "    </tr>\n",
       "  </thead>\n",
       "  <tbody>\n",
       "    <tr>\n",
       "      <th>14</th>\n",
       "      <td>2008-12-15</td>\n",
       "      <td>Albury</td>\n",
       "      <td>8.4</td>\n",
       "      <td>24.6</td>\n",
       "      <td>0.0</td>\n",
       "      <td>NaN</td>\n",
       "      <td>NaN</td>\n",
       "      <td>NaN</td>\n",
       "      <td>NaN</td>\n",
       "      <td>S</td>\n",
       "      <td>WNW</td>\n",
       "      <td>4.0</td>\n",
       "      <td>30.0</td>\n",
       "      <td>57.0</td>\n",
       "      <td>32.0</td>\n",
       "      <td>1009.7</td>\n",
       "      <td>1008.7</td>\n",
       "      <td>NaN</td>\n",
       "      <td>NaN</td>\n",
       "      <td>15.9</td>\n",
       "      <td>23.5</td>\n",
       "      <td>No</td>\n",
       "      <td>NaN</td>\n",
       "    </tr>\n",
       "    <tr>\n",
       "      <th>283</th>\n",
       "      <td>2009-09-10</td>\n",
       "      <td>Albury</td>\n",
       "      <td>2.6</td>\n",
       "      <td>NaN</td>\n",
       "      <td>0.0</td>\n",
       "      <td>NaN</td>\n",
       "      <td>NaN</td>\n",
       "      <td>NaN</td>\n",
       "      <td>NaN</td>\n",
       "      <td>E</td>\n",
       "      <td>WNW</td>\n",
       "      <td>6.0</td>\n",
       "      <td>13.0</td>\n",
       "      <td>71.0</td>\n",
       "      <td>55.0</td>\n",
       "      <td>1017.8</td>\n",
       "      <td>1017.6</td>\n",
       "      <td>NaN</td>\n",
       "      <td>6.0</td>\n",
       "      <td>9.7</td>\n",
       "      <td>14.3</td>\n",
       "      <td>No</td>\n",
       "      <td>NaN</td>\n",
       "    </tr>\n",
       "    <tr>\n",
       "      <th>435</th>\n",
       "      <td>2010-02-09</td>\n",
       "      <td>Albury</td>\n",
       "      <td>22.1</td>\n",
       "      <td>35.1</td>\n",
       "      <td>0.0</td>\n",
       "      <td>NaN</td>\n",
       "      <td>NaN</td>\n",
       "      <td>NaN</td>\n",
       "      <td>NaN</td>\n",
       "      <td>ENE</td>\n",
       "      <td>SW</td>\n",
       "      <td>6.0</td>\n",
       "      <td>11.0</td>\n",
       "      <td>58.0</td>\n",
       "      <td>37.0</td>\n",
       "      <td>1020.9</td>\n",
       "      <td>1017.8</td>\n",
       "      <td>NaN</td>\n",
       "      <td>1.0</td>\n",
       "      <td>26.9</td>\n",
       "      <td>33.5</td>\n",
       "      <td>No</td>\n",
       "      <td>NaN</td>\n",
       "    </tr>\n",
       "    <tr>\n",
       "      <th>437</th>\n",
       "      <td>2010-02-11</td>\n",
       "      <td>Albury</td>\n",
       "      <td>21.5</td>\n",
       "      <td>35.0</td>\n",
       "      <td>0.0</td>\n",
       "      <td>NaN</td>\n",
       "      <td>NaN</td>\n",
       "      <td>NaN</td>\n",
       "      <td>NaN</td>\n",
       "      <td>SSE</td>\n",
       "      <td>E</td>\n",
       "      <td>9.0</td>\n",
       "      <td>7.0</td>\n",
       "      <td>76.0</td>\n",
       "      <td>35.0</td>\n",
       "      <td>1015.8</td>\n",
       "      <td>1010.3</td>\n",
       "      <td>NaN</td>\n",
       "      <td>8.0</td>\n",
       "      <td>24.2</td>\n",
       "      <td>33.1</td>\n",
       "      <td>No</td>\n",
       "      <td>NaN</td>\n",
       "    </tr>\n",
       "    <tr>\n",
       "      <th>443</th>\n",
       "      <td>2010-02-17</td>\n",
       "      <td>Albury</td>\n",
       "      <td>15.5</td>\n",
       "      <td>30.6</td>\n",
       "      <td>0.0</td>\n",
       "      <td>NaN</td>\n",
       "      <td>NaN</td>\n",
       "      <td>NaN</td>\n",
       "      <td>NaN</td>\n",
       "      <td>SE</td>\n",
       "      <td>SSW</td>\n",
       "      <td>6.0</td>\n",
       "      <td>11.0</td>\n",
       "      <td>66.0</td>\n",
       "      <td>30.0</td>\n",
       "      <td>1015.9</td>\n",
       "      <td>1013.8</td>\n",
       "      <td>NaN</td>\n",
       "      <td>NaN</td>\n",
       "      <td>19.4</td>\n",
       "      <td>30.0</td>\n",
       "      <td>No</td>\n",
       "      <td>NaN</td>\n",
       "    </tr>\n",
       "  </tbody>\n",
       "</table>\n",
       "</div>"
      ],
      "text/plain": [
       "           Date Location  MinTemp  MaxTemp  Rainfall  Evaporation  Sunshine  \\\n",
       "14   2008-12-15   Albury      8.4     24.6       0.0          NaN       NaN   \n",
       "283  2009-09-10   Albury      2.6      NaN       0.0          NaN       NaN   \n",
       "435  2010-02-09   Albury     22.1     35.1       0.0          NaN       NaN   \n",
       "437  2010-02-11   Albury     21.5     35.0       0.0          NaN       NaN   \n",
       "443  2010-02-17   Albury     15.5     30.6       0.0          NaN       NaN   \n",
       "\n",
       "    WindGustDir  WindGustSpeed WindDir9am WindDir3pm  WindSpeed9am  \\\n",
       "14          NaN            NaN          S        WNW           4.0   \n",
       "283         NaN            NaN          E        WNW           6.0   \n",
       "435         NaN            NaN        ENE         SW           6.0   \n",
       "437         NaN            NaN        SSE          E           9.0   \n",
       "443         NaN            NaN         SE        SSW           6.0   \n",
       "\n",
       "     WindSpeed3pm  Humidity9am  Humidity3pm  Pressure9am  Pressure3pm  \\\n",
       "14           30.0         57.0         32.0       1009.7       1008.7   \n",
       "283          13.0         71.0         55.0       1017.8       1017.6   \n",
       "435          11.0         58.0         37.0       1020.9       1017.8   \n",
       "437           7.0         76.0         35.0       1015.8       1010.3   \n",
       "443          11.0         66.0         30.0       1015.9       1013.8   \n",
       "\n",
       "     Cloud9am  Cloud3pm  Temp9am  Temp3pm RainToday RainTomorrow  \n",
       "14        NaN       NaN     15.9     23.5        No          NaN  \n",
       "283       NaN       6.0      9.7     14.3        No          NaN  \n",
       "435       NaN       1.0     26.9     33.5        No          NaN  \n",
       "437       NaN       8.0     24.2     33.1        No          NaN  \n",
       "443       NaN       NaN     19.4     30.0        No          NaN  "
      ]
     },
     "execution_count": 16,
     "metadata": {},
     "output_type": "execute_result"
    }
   ],
   "source": [
    "# Membuat Data Inference dari Data yang memiliki Missing Value dalam Target\n",
    "inf = df[df.RainTomorrow.isnull()] #Memilih Data Missing Value Target\n",
    "inf.head()"
   ]
  },
  {
   "cell_type": "code",
   "execution_count": 17,
   "metadata": {},
   "outputs": [
    {
     "data": {
      "text/html": [
       "<div>\n",
       "<style scoped>\n",
       "    .dataframe tbody tr th:only-of-type {\n",
       "        vertical-align: middle;\n",
       "    }\n",
       "\n",
       "    .dataframe tbody tr th {\n",
       "        vertical-align: top;\n",
       "    }\n",
       "\n",
       "    .dataframe thead th {\n",
       "        text-align: right;\n",
       "    }\n",
       "</style>\n",
       "<table border=\"1\" class=\"dataframe\">\n",
       "  <thead>\n",
       "    <tr style=\"text-align: right;\">\n",
       "      <th></th>\n",
       "      <th>Date</th>\n",
       "      <th>Location</th>\n",
       "      <th>MinTemp</th>\n",
       "      <th>MaxTemp</th>\n",
       "      <th>Rainfall</th>\n",
       "      <th>Evaporation</th>\n",
       "      <th>Sunshine</th>\n",
       "      <th>WindGustDir</th>\n",
       "      <th>WindGustSpeed</th>\n",
       "      <th>WindDir9am</th>\n",
       "      <th>WindDir3pm</th>\n",
       "      <th>WindSpeed9am</th>\n",
       "      <th>WindSpeed3pm</th>\n",
       "      <th>Humidity9am</th>\n",
       "      <th>Humidity3pm</th>\n",
       "      <th>Pressure9am</th>\n",
       "      <th>Pressure3pm</th>\n",
       "      <th>Cloud9am</th>\n",
       "      <th>Cloud3pm</th>\n",
       "      <th>Temp9am</th>\n",
       "      <th>Temp3pm</th>\n",
       "      <th>RainToday</th>\n",
       "      <th>RainTomorrow</th>\n",
       "    </tr>\n",
       "  </thead>\n",
       "  <tbody>\n",
       "    <tr>\n",
       "      <th>145454</th>\n",
       "      <td>2017-06-20</td>\n",
       "      <td>Uluru</td>\n",
       "      <td>3.5</td>\n",
       "      <td>21.8</td>\n",
       "      <td>0.0</td>\n",
       "      <td>NaN</td>\n",
       "      <td>NaN</td>\n",
       "      <td>E</td>\n",
       "      <td>31.0</td>\n",
       "      <td>ESE</td>\n",
       "      <td>E</td>\n",
       "      <td>15.0</td>\n",
       "      <td>13.0</td>\n",
       "      <td>59.0</td>\n",
       "      <td>27.0</td>\n",
       "      <td>1024.7</td>\n",
       "      <td>1021.2</td>\n",
       "      <td>NaN</td>\n",
       "      <td>NaN</td>\n",
       "      <td>9.4</td>\n",
       "      <td>20.9</td>\n",
       "      <td>No</td>\n",
       "      <td>No</td>\n",
       "    </tr>\n",
       "    <tr>\n",
       "      <th>145455</th>\n",
       "      <td>2017-06-21</td>\n",
       "      <td>Uluru</td>\n",
       "      <td>2.8</td>\n",
       "      <td>23.4</td>\n",
       "      <td>0.0</td>\n",
       "      <td>NaN</td>\n",
       "      <td>NaN</td>\n",
       "      <td>E</td>\n",
       "      <td>31.0</td>\n",
       "      <td>SE</td>\n",
       "      <td>ENE</td>\n",
       "      <td>13.0</td>\n",
       "      <td>11.0</td>\n",
       "      <td>51.0</td>\n",
       "      <td>24.0</td>\n",
       "      <td>1024.6</td>\n",
       "      <td>1020.3</td>\n",
       "      <td>NaN</td>\n",
       "      <td>NaN</td>\n",
       "      <td>10.1</td>\n",
       "      <td>22.4</td>\n",
       "      <td>No</td>\n",
       "      <td>No</td>\n",
       "    </tr>\n",
       "    <tr>\n",
       "      <th>145456</th>\n",
       "      <td>2017-06-22</td>\n",
       "      <td>Uluru</td>\n",
       "      <td>3.6</td>\n",
       "      <td>25.3</td>\n",
       "      <td>0.0</td>\n",
       "      <td>NaN</td>\n",
       "      <td>NaN</td>\n",
       "      <td>NNW</td>\n",
       "      <td>22.0</td>\n",
       "      <td>SE</td>\n",
       "      <td>N</td>\n",
       "      <td>13.0</td>\n",
       "      <td>9.0</td>\n",
       "      <td>56.0</td>\n",
       "      <td>21.0</td>\n",
       "      <td>1023.5</td>\n",
       "      <td>1019.1</td>\n",
       "      <td>NaN</td>\n",
       "      <td>NaN</td>\n",
       "      <td>10.9</td>\n",
       "      <td>24.5</td>\n",
       "      <td>No</td>\n",
       "      <td>No</td>\n",
       "    </tr>\n",
       "    <tr>\n",
       "      <th>145457</th>\n",
       "      <td>2017-06-23</td>\n",
       "      <td>Uluru</td>\n",
       "      <td>5.4</td>\n",
       "      <td>26.9</td>\n",
       "      <td>0.0</td>\n",
       "      <td>NaN</td>\n",
       "      <td>NaN</td>\n",
       "      <td>N</td>\n",
       "      <td>37.0</td>\n",
       "      <td>SE</td>\n",
       "      <td>WNW</td>\n",
       "      <td>9.0</td>\n",
       "      <td>9.0</td>\n",
       "      <td>53.0</td>\n",
       "      <td>24.0</td>\n",
       "      <td>1021.0</td>\n",
       "      <td>1016.8</td>\n",
       "      <td>NaN</td>\n",
       "      <td>NaN</td>\n",
       "      <td>12.5</td>\n",
       "      <td>26.1</td>\n",
       "      <td>No</td>\n",
       "      <td>No</td>\n",
       "    </tr>\n",
       "    <tr>\n",
       "      <th>145458</th>\n",
       "      <td>2017-06-24</td>\n",
       "      <td>Uluru</td>\n",
       "      <td>7.8</td>\n",
       "      <td>27.0</td>\n",
       "      <td>0.0</td>\n",
       "      <td>NaN</td>\n",
       "      <td>NaN</td>\n",
       "      <td>SE</td>\n",
       "      <td>28.0</td>\n",
       "      <td>SSE</td>\n",
       "      <td>N</td>\n",
       "      <td>13.0</td>\n",
       "      <td>7.0</td>\n",
       "      <td>51.0</td>\n",
       "      <td>24.0</td>\n",
       "      <td>1019.4</td>\n",
       "      <td>1016.5</td>\n",
       "      <td>3.0</td>\n",
       "      <td>2.0</td>\n",
       "      <td>15.1</td>\n",
       "      <td>26.0</td>\n",
       "      <td>No</td>\n",
       "      <td>No</td>\n",
       "    </tr>\n",
       "  </tbody>\n",
       "</table>\n",
       "</div>"
      ],
      "text/plain": [
       "              Date Location  MinTemp  MaxTemp  Rainfall  Evaporation  \\\n",
       "145454  2017-06-20    Uluru      3.5     21.8       0.0          NaN   \n",
       "145455  2017-06-21    Uluru      2.8     23.4       0.0          NaN   \n",
       "145456  2017-06-22    Uluru      3.6     25.3       0.0          NaN   \n",
       "145457  2017-06-23    Uluru      5.4     26.9       0.0          NaN   \n",
       "145458  2017-06-24    Uluru      7.8     27.0       0.0          NaN   \n",
       "\n",
       "        Sunshine WindGustDir  WindGustSpeed WindDir9am WindDir3pm  \\\n",
       "145454       NaN           E           31.0        ESE          E   \n",
       "145455       NaN           E           31.0         SE        ENE   \n",
       "145456       NaN         NNW           22.0         SE          N   \n",
       "145457       NaN           N           37.0         SE        WNW   \n",
       "145458       NaN          SE           28.0        SSE          N   \n",
       "\n",
       "        WindSpeed9am  WindSpeed3pm  Humidity9am  Humidity3pm  Pressure9am  \\\n",
       "145454          15.0          13.0         59.0         27.0       1024.7   \n",
       "145455          13.0          11.0         51.0         24.0       1024.6   \n",
       "145456          13.0           9.0         56.0         21.0       1023.5   \n",
       "145457           9.0           9.0         53.0         24.0       1021.0   \n",
       "145458          13.0           7.0         51.0         24.0       1019.4   \n",
       "\n",
       "        Pressure3pm  Cloud9am  Cloud3pm  Temp9am  Temp3pm RainToday  \\\n",
       "145454       1021.2       NaN       NaN      9.4     20.9        No   \n",
       "145455       1020.3       NaN       NaN     10.1     22.4        No   \n",
       "145456       1019.1       NaN       NaN     10.9     24.5        No   \n",
       "145457       1016.8       NaN       NaN     12.5     26.1        No   \n",
       "145458       1016.5       3.0       2.0     15.1     26.0        No   \n",
       "\n",
       "       RainTomorrow  \n",
       "145454           No  \n",
       "145455           No  \n",
       "145456           No  \n",
       "145457           No  \n",
       "145458           No  "
      ]
     },
     "execution_count": 17,
     "metadata": {},
     "output_type": "execute_result"
    }
   ],
   "source": [
    "# Menghapus data Inference dari dalam dataset\n",
    "df_train_test = df.drop(inf.index)\n",
    "df_train_test.tail()"
   ]
  },
  {
   "cell_type": "code",
   "execution_count": 18,
   "metadata": {},
   "outputs": [
    {
     "data": {
      "text/html": [
       "<div>\n",
       "<style scoped>\n",
       "    .dataframe tbody tr th:only-of-type {\n",
       "        vertical-align: middle;\n",
       "    }\n",
       "\n",
       "    .dataframe tbody tr th {\n",
       "        vertical-align: top;\n",
       "    }\n",
       "\n",
       "    .dataframe thead th {\n",
       "        text-align: right;\n",
       "    }\n",
       "</style>\n",
       "<table border=\"1\" class=\"dataframe\">\n",
       "  <thead>\n",
       "    <tr style=\"text-align: right;\">\n",
       "      <th></th>\n",
       "      <th>Date</th>\n",
       "      <th>Location</th>\n",
       "      <th>MinTemp</th>\n",
       "      <th>MaxTemp</th>\n",
       "      <th>Rainfall</th>\n",
       "      <th>Evaporation</th>\n",
       "      <th>Sunshine</th>\n",
       "      <th>WindGustDir</th>\n",
       "      <th>WindGustSpeed</th>\n",
       "      <th>WindDir9am</th>\n",
       "      <th>WindDir3pm</th>\n",
       "      <th>WindSpeed9am</th>\n",
       "      <th>WindSpeed3pm</th>\n",
       "      <th>Humidity9am</th>\n",
       "      <th>Humidity3pm</th>\n",
       "      <th>Pressure9am</th>\n",
       "      <th>Pressure3pm</th>\n",
       "      <th>Cloud9am</th>\n",
       "      <th>Cloud3pm</th>\n",
       "      <th>Temp9am</th>\n",
       "      <th>Temp3pm</th>\n",
       "      <th>RainToday</th>\n",
       "      <th>RainTomorrow</th>\n",
       "    </tr>\n",
       "  </thead>\n",
       "  <tbody>\n",
       "    <tr>\n",
       "      <th>0</th>\n",
       "      <td>2008-12-15</td>\n",
       "      <td>Albury</td>\n",
       "      <td>8.4</td>\n",
       "      <td>24.6</td>\n",
       "      <td>0.0</td>\n",
       "      <td>NaN</td>\n",
       "      <td>NaN</td>\n",
       "      <td>NaN</td>\n",
       "      <td>NaN</td>\n",
       "      <td>S</td>\n",
       "      <td>WNW</td>\n",
       "      <td>4.0</td>\n",
       "      <td>30.0</td>\n",
       "      <td>57.0</td>\n",
       "      <td>32.0</td>\n",
       "      <td>1009.7</td>\n",
       "      <td>1008.7</td>\n",
       "      <td>NaN</td>\n",
       "      <td>NaN</td>\n",
       "      <td>15.9</td>\n",
       "      <td>23.5</td>\n",
       "      <td>No</td>\n",
       "      <td>NaN</td>\n",
       "    </tr>\n",
       "    <tr>\n",
       "      <th>1</th>\n",
       "      <td>2009-09-10</td>\n",
       "      <td>Albury</td>\n",
       "      <td>2.6</td>\n",
       "      <td>NaN</td>\n",
       "      <td>0.0</td>\n",
       "      <td>NaN</td>\n",
       "      <td>NaN</td>\n",
       "      <td>NaN</td>\n",
       "      <td>NaN</td>\n",
       "      <td>E</td>\n",
       "      <td>WNW</td>\n",
       "      <td>6.0</td>\n",
       "      <td>13.0</td>\n",
       "      <td>71.0</td>\n",
       "      <td>55.0</td>\n",
       "      <td>1017.8</td>\n",
       "      <td>1017.6</td>\n",
       "      <td>NaN</td>\n",
       "      <td>6.0</td>\n",
       "      <td>9.7</td>\n",
       "      <td>14.3</td>\n",
       "      <td>No</td>\n",
       "      <td>NaN</td>\n",
       "    </tr>\n",
       "    <tr>\n",
       "      <th>2</th>\n",
       "      <td>2010-02-09</td>\n",
       "      <td>Albury</td>\n",
       "      <td>22.1</td>\n",
       "      <td>35.1</td>\n",
       "      <td>0.0</td>\n",
       "      <td>NaN</td>\n",
       "      <td>NaN</td>\n",
       "      <td>NaN</td>\n",
       "      <td>NaN</td>\n",
       "      <td>ENE</td>\n",
       "      <td>SW</td>\n",
       "      <td>6.0</td>\n",
       "      <td>11.0</td>\n",
       "      <td>58.0</td>\n",
       "      <td>37.0</td>\n",
       "      <td>1020.9</td>\n",
       "      <td>1017.8</td>\n",
       "      <td>NaN</td>\n",
       "      <td>1.0</td>\n",
       "      <td>26.9</td>\n",
       "      <td>33.5</td>\n",
       "      <td>No</td>\n",
       "      <td>NaN</td>\n",
       "    </tr>\n",
       "    <tr>\n",
       "      <th>3</th>\n",
       "      <td>2010-02-11</td>\n",
       "      <td>Albury</td>\n",
       "      <td>21.5</td>\n",
       "      <td>35.0</td>\n",
       "      <td>0.0</td>\n",
       "      <td>NaN</td>\n",
       "      <td>NaN</td>\n",
       "      <td>NaN</td>\n",
       "      <td>NaN</td>\n",
       "      <td>SSE</td>\n",
       "      <td>E</td>\n",
       "      <td>9.0</td>\n",
       "      <td>7.0</td>\n",
       "      <td>76.0</td>\n",
       "      <td>35.0</td>\n",
       "      <td>1015.8</td>\n",
       "      <td>1010.3</td>\n",
       "      <td>NaN</td>\n",
       "      <td>8.0</td>\n",
       "      <td>24.2</td>\n",
       "      <td>33.1</td>\n",
       "      <td>No</td>\n",
       "      <td>NaN</td>\n",
       "    </tr>\n",
       "    <tr>\n",
       "      <th>4</th>\n",
       "      <td>2010-02-17</td>\n",
       "      <td>Albury</td>\n",
       "      <td>15.5</td>\n",
       "      <td>30.6</td>\n",
       "      <td>0.0</td>\n",
       "      <td>NaN</td>\n",
       "      <td>NaN</td>\n",
       "      <td>NaN</td>\n",
       "      <td>NaN</td>\n",
       "      <td>SE</td>\n",
       "      <td>SSW</td>\n",
       "      <td>6.0</td>\n",
       "      <td>11.0</td>\n",
       "      <td>66.0</td>\n",
       "      <td>30.0</td>\n",
       "      <td>1015.9</td>\n",
       "      <td>1013.8</td>\n",
       "      <td>NaN</td>\n",
       "      <td>NaN</td>\n",
       "      <td>19.4</td>\n",
       "      <td>30.0</td>\n",
       "      <td>No</td>\n",
       "      <td>NaN</td>\n",
       "    </tr>\n",
       "  </tbody>\n",
       "</table>\n",
       "</div>"
      ],
      "text/plain": [
       "         Date Location  MinTemp  MaxTemp  Rainfall  Evaporation  Sunshine  \\\n",
       "0  2008-12-15   Albury      8.4     24.6       0.0          NaN       NaN   \n",
       "1  2009-09-10   Albury      2.6      NaN       0.0          NaN       NaN   \n",
       "2  2010-02-09   Albury     22.1     35.1       0.0          NaN       NaN   \n",
       "3  2010-02-11   Albury     21.5     35.0       0.0          NaN       NaN   \n",
       "4  2010-02-17   Albury     15.5     30.6       0.0          NaN       NaN   \n",
       "\n",
       "  WindGustDir  WindGustSpeed WindDir9am WindDir3pm  WindSpeed9am  \\\n",
       "0         NaN            NaN          S        WNW           4.0   \n",
       "1         NaN            NaN          E        WNW           6.0   \n",
       "2         NaN            NaN        ENE         SW           6.0   \n",
       "3         NaN            NaN        SSE          E           9.0   \n",
       "4         NaN            NaN         SE        SSW           6.0   \n",
       "\n",
       "   WindSpeed3pm  Humidity9am  Humidity3pm  Pressure9am  Pressure3pm  Cloud9am  \\\n",
       "0          30.0         57.0         32.0       1009.7       1008.7       NaN   \n",
       "1          13.0         71.0         55.0       1017.8       1017.6       NaN   \n",
       "2          11.0         58.0         37.0       1020.9       1017.8       NaN   \n",
       "3           7.0         76.0         35.0       1015.8       1010.3       NaN   \n",
       "4          11.0         66.0         30.0       1015.9       1013.8       NaN   \n",
       "\n",
       "   Cloud3pm  Temp9am  Temp3pm RainToday RainTomorrow  \n",
       "0       NaN     15.9     23.5        No          NaN  \n",
       "1       6.0      9.7     14.3        No          NaN  \n",
       "2       1.0     26.9     33.5        No          NaN  \n",
       "3       8.0     24.2     33.1        No          NaN  \n",
       "4       NaN     19.4     30.0        No          NaN  "
      ]
     },
     "execution_count": 18,
     "metadata": {},
     "output_type": "execute_result"
    }
   ],
   "source": [
    "# Reset Index untuk Data_train_test dan data for inference\n",
    "df_train_test.reset_index(drop=True, inplace=True)\n",
    "inf.reset_index(drop=True, inplace=True)\n",
    "inf.head()"
   ]
  },
  {
   "cell_type": "markdown",
   "metadata": {},
   "source": [
    "## Feature Selection"
   ]
  },
  {
   "cell_type": "code",
   "execution_count": 19,
   "metadata": {},
   "outputs": [
    {
     "data": {
      "text/plain": [
       "Text(0.5, 1.0, 'Heatmap Korelasi')"
      ]
     },
     "execution_count": 19,
     "metadata": {},
     "output_type": "execute_result"
    },
    {
     "data": {
      "image/png": "[encoded data removed]",
      "text/plain": [
       "<Figure size 1800x936 with 2 Axes>"
      ]
     },
     "metadata": {
      "needs_background": "light"
     },
     "output_type": "display_data"
    }
   ],
   "source": [
    "#Membuat Heatmap Korelasi untuk pertimbangan Feature Selection\n",
    "\n",
    "#df_select dibuat hanya untuk melihat korelasi terhadap target, RainToday dan RainTomorrow akan diencoding di tahap berikutnya.\n",
    "df_select = df_train_test.copy()\n",
    "df_select['RainTomorrow'].replace({'No' : 0, 'Yes' : 1},inplace=True)\n",
    "df_select['RainToday'].replace({'No' : 0, 'Yes' : 1}, inplace=True)\n",
    "\n",
    "plt.figure(figsize=(25,13)) #Ukuran Plot\n",
    "sns.heatmap(df_select.corr(), annot=True) #Menampilkan korelasi dari df_select, yang saya fokuskan korelasi terhadap fitur 'Price'\n",
    "plt.title('Heatmap Korelasi') #Title plot"
   ]
  },
  {
   "cell_type": "markdown",
   "metadata": {},
   "source": [
    "-   Terdapat High Multi Collinearity antara Temp9am dan Temp3pm, Pressure9am dan Pressure3pm maka akan dilakukan Drop Column.\n",
    "-   Terdapat Korelasi yang cukup tinggi untuk Target adalah column Humidity3pm, Cloud3pm dan RainToday, sedangkan yang lainnya cukup memiliki korelasi terhadap Target sehingga saya memutuskan untuk tetap menjadikannya sebuah fitur."
   ]
  },
  {
   "cell_type": "markdown",
   "metadata": {},
   "source": [
    "Feature selection menghapus column yang memiliki High Multi Collinearity ('Temp9am', 'Temp3pm', 'Pressure9am', 'Pressure3pm')  \n",
    "Feature selection menghapus column yang memiliki Missing Value Tinggi ('Evaporation', 'Sunshine', 'Cloud9am', 'Cloud3pm')"
   ]
  },
  {
   "cell_type": "code",
   "execution_count": 20,
   "metadata": {},
   "outputs": [],
   "source": [
    "# Feature Selection\n",
    "df_train_test.drop(columns=['Temp9am', 'Temp3pm', 'Pressure9am', 'Pressure3pm','Evaporation', 'Sunshine', 'Cloud9am', 'Cloud3pm'], axis=1, inplace=True)"
   ]
  },
  {
   "cell_type": "code",
   "execution_count": 21,
   "metadata": {},
   "outputs": [
    {
     "data": {
      "text/html": [
       "<div>\n",
       "<style scoped>\n",
       "    .dataframe tbody tr th:only-of-type {\n",
       "        vertical-align: middle;\n",
       "    }\n",
       "\n",
       "    .dataframe tbody tr th {\n",
       "        vertical-align: top;\n",
       "    }\n",
       "\n",
       "    .dataframe thead th {\n",
       "        text-align: right;\n",
       "    }\n",
       "</style>\n",
       "<table border=\"1\" class=\"dataframe\">\n",
       "  <thead>\n",
       "    <tr style=\"text-align: right;\">\n",
       "      <th></th>\n",
       "      <th>Date</th>\n",
       "      <th>Location</th>\n",
       "      <th>MinTemp</th>\n",
       "      <th>MaxTemp</th>\n",
       "      <th>Rainfall</th>\n",
       "      <th>WindGustDir</th>\n",
       "      <th>WindGustSpeed</th>\n",
       "      <th>WindDir9am</th>\n",
       "      <th>WindDir3pm</th>\n",
       "      <th>WindSpeed9am</th>\n",
       "      <th>WindSpeed3pm</th>\n",
       "      <th>Humidity9am</th>\n",
       "      <th>Humidity3pm</th>\n",
       "      <th>RainToday</th>\n",
       "      <th>RainTomorrow</th>\n",
       "    </tr>\n",
       "  </thead>\n",
       "  <tbody>\n",
       "    <tr>\n",
       "      <th>0</th>\n",
       "      <td>2008-12-01</td>\n",
       "      <td>Albury</td>\n",
       "      <td>13.4</td>\n",
       "      <td>22.9</td>\n",
       "      <td>0.6</td>\n",
       "      <td>W</td>\n",
       "      <td>44.0</td>\n",
       "      <td>W</td>\n",
       "      <td>WNW</td>\n",
       "      <td>20.0</td>\n",
       "      <td>24.0</td>\n",
       "      <td>71.0</td>\n",
       "      <td>22.0</td>\n",
       "      <td>No</td>\n",
       "      <td>No</td>\n",
       "    </tr>\n",
       "    <tr>\n",
       "      <th>1</th>\n",
       "      <td>2008-12-02</td>\n",
       "      <td>Albury</td>\n",
       "      <td>7.4</td>\n",
       "      <td>25.1</td>\n",
       "      <td>0.0</td>\n",
       "      <td>WNW</td>\n",
       "      <td>44.0</td>\n",
       "      <td>NNW</td>\n",
       "      <td>WSW</td>\n",
       "      <td>4.0</td>\n",
       "      <td>22.0</td>\n",
       "      <td>44.0</td>\n",
       "      <td>25.0</td>\n",
       "      <td>No</td>\n",
       "      <td>No</td>\n",
       "    </tr>\n",
       "    <tr>\n",
       "      <th>2</th>\n",
       "      <td>2008-12-03</td>\n",
       "      <td>Albury</td>\n",
       "      <td>12.9</td>\n",
       "      <td>25.7</td>\n",
       "      <td>0.0</td>\n",
       "      <td>WSW</td>\n",
       "      <td>46.0</td>\n",
       "      <td>W</td>\n",
       "      <td>WSW</td>\n",
       "      <td>19.0</td>\n",
       "      <td>26.0</td>\n",
       "      <td>38.0</td>\n",
       "      <td>30.0</td>\n",
       "      <td>No</td>\n",
       "      <td>No</td>\n",
       "    </tr>\n",
       "    <tr>\n",
       "      <th>3</th>\n",
       "      <td>2008-12-04</td>\n",
       "      <td>Albury</td>\n",
       "      <td>9.2</td>\n",
       "      <td>28.0</td>\n",
       "      <td>0.0</td>\n",
       "      <td>NE</td>\n",
       "      <td>24.0</td>\n",
       "      <td>SE</td>\n",
       "      <td>E</td>\n",
       "      <td>11.0</td>\n",
       "      <td>9.0</td>\n",
       "      <td>45.0</td>\n",
       "      <td>16.0</td>\n",
       "      <td>No</td>\n",
       "      <td>No</td>\n",
       "    </tr>\n",
       "    <tr>\n",
       "      <th>4</th>\n",
       "      <td>2008-12-05</td>\n",
       "      <td>Albury</td>\n",
       "      <td>17.5</td>\n",
       "      <td>32.3</td>\n",
       "      <td>1.0</td>\n",
       "      <td>W</td>\n",
       "      <td>41.0</td>\n",
       "      <td>ENE</td>\n",
       "      <td>NW</td>\n",
       "      <td>7.0</td>\n",
       "      <td>20.0</td>\n",
       "      <td>82.0</td>\n",
       "      <td>33.0</td>\n",
       "      <td>No</td>\n",
       "      <td>No</td>\n",
       "    </tr>\n",
       "  </tbody>\n",
       "</table>\n",
       "</div>"
      ],
      "text/plain": [
       "         Date Location  MinTemp  MaxTemp  Rainfall WindGustDir  WindGustSpeed  \\\n",
       "0  2008-12-01   Albury     13.4     22.9       0.6           W           44.0   \n",
       "1  2008-12-02   Albury      7.4     25.1       0.0         WNW           44.0   \n",
       "2  2008-12-03   Albury     12.9     25.7       0.0         WSW           46.0   \n",
       "3  2008-12-04   Albury      9.2     28.0       0.0          NE           24.0   \n",
       "4  2008-12-05   Albury     17.5     32.3       1.0           W           41.0   \n",
       "\n",
       "  WindDir9am WindDir3pm  WindSpeed9am  WindSpeed3pm  Humidity9am  Humidity3pm  \\\n",
       "0          W        WNW          20.0          24.0         71.0         22.0   \n",
       "1        NNW        WSW           4.0          22.0         44.0         25.0   \n",
       "2          W        WSW          19.0          26.0         38.0         30.0   \n",
       "3         SE          E          11.0           9.0         45.0         16.0   \n",
       "4        ENE         NW           7.0          20.0         82.0         33.0   \n",
       "\n",
       "  RainToday RainTomorrow  \n",
       "0        No           No  \n",
       "1        No           No  \n",
       "2        No           No  \n",
       "3        No           No  \n",
       "4        No           No  "
      ]
     },
     "execution_count": 21,
     "metadata": {},
     "output_type": "execute_result"
    }
   ],
   "source": [
    "df_train_test.head()"
   ]
  },
  {
   "cell_type": "markdown",
   "metadata": {},
   "source": [
    "## Train Test Split"
   ]
  },
  {
   "cell_type": "code",
   "execution_count": 22,
   "metadata": {},
   "outputs": [
    {
     "name": "stdout",
     "output_type": "stream",
     "text": [
      "(113754, 15)\n",
      "(28439, 15)\n"
     ]
    }
   ],
   "source": [
    "# Splitting Dataset menggunakan sklearn train_test_split\n",
    "# Membagi untuk data train 80% dan test 30%\n",
    "from sklearn.model_selection import train_test_split\n",
    "\n",
    "train, test = train_test_split(df_train_test, test_size=0.2, random_state=33)\n",
    "\n",
    "print(train.shape)\n",
    "print(test.shape)"
   ]
  },
  {
   "cell_type": "markdown",
   "metadata": {},
   "source": [
    "## Handling Outliers"
   ]
  },
  {
   "cell_type": "markdown",
   "metadata": {},
   "source": [
    "### Identify Outliers"
   ]
  },
  {
   "cell_type": "code",
   "execution_count": 23,
   "metadata": {},
   "outputs": [],
   "source": [
    "#function histplot dan boxplot untuk melihat distribusi data\n",
    "def identify_plots(df, variable):\n",
    "    plt.figure(figsize=(16, 4))\n",
    "\n",
    "    # Plot 1 Histogram\n",
    "    plt.subplot(1, 2, 1)\n",
    "    sns.histplot(df[variable], bins=30)\n",
    "    plt.title('Histogram')\n",
    "\n",
    "    # Plot 2 Boxplot\n",
    "    plt.subplot(1, 2, 2)\n",
    "    sns.boxplot(y=df[variable])\n",
    "    plt.title('Boxplot')\n",
    "\n",
    "    plt.show()"
   ]
  },
  {
   "cell_type": "code",
   "execution_count": 24,
   "metadata": {},
   "outputs": [
    {
     "data": {
      "image/png": "[encoded data removed]",
      "text/plain": [
       "<Figure size 1152x288 with 2 Axes>"
      ]
     },
     "metadata": {
      "needs_background": "light"
     },
     "output_type": "display_data"
    },
    {
     "name": "stdout",
     "output_type": "stream",
     "text": [
      "Nilai Skew :  0.023676303605226448\n",
      "\n"
     ]
    },
    {
     "data": {
      "image/png": "[encoded data removed]",
      "text/plain": [
       "<Figure size 1152x288 with 2 Axes>"
      ]
     },
     "metadata": {
      "needs_background": "light"
     },
     "output_type": "display_data"
    },
    {
     "name": "stdout",
     "output_type": "stream",
     "text": [
      "Nilai Skew :  0.22637212577545396\n",
      "\n"
     ]
    },
    {
     "data": {
      "image/png": "[encoded data removed]",
      "text/plain": [
       "<Figure size 1152x288 with 2 Axes>"
      ]
     },
     "metadata": {
      "needs_background": "light"
     },
     "output_type": "display_data"
    },
    {
     "name": "stdout",
     "output_type": "stream",
     "text": [
      "Nilai Skew :  9.674505163600573\n",
      "\n"
     ]
    },
    {
     "data": {
      "image/png": "[encoded data removed]",
      "text/plain": [
       "<Figure size 1152x288 with 2 Axes>"
      ]
     },
     "metadata": {
      "needs_background": "light"
     },
     "output_type": "display_data"
    },
    {
     "name": "stdout",
     "output_type": "stream",
     "text": [
      "Nilai Skew :  0.8710176797950845\n",
      "\n"
     ]
    },
    {
     "data": {
      "image/png": "[encoded data removed]",
      "text/plain": [
       "<Figure size 1152x288 with 2 Axes>"
      ]
     },
     "metadata": {
      "needs_background": "light"
     },
     "output_type": "display_data"
    },
    {
     "name": "stdout",
     "output_type": "stream",
     "text": [
      "Nilai Skew :  0.777717909865032\n",
      "\n"
     ]
    },
    {
     "data": {
      "image/png": "[encoded data removed]",
      "text/plain": [
       "<Figure size 1152x288 with 2 Axes>"
      ]
     },
     "metadata": {
      "needs_background": "light"
     },
     "output_type": "display_data"
    },
    {
     "name": "stdout",
     "output_type": "stream",
     "text": [
      "Nilai Skew :  0.6350256075395495\n",
      "\n"
     ]
    },
    {
     "data": {
      "image/png": "[encoded data removed]",
      "text/plain": [
       "<Figure size 1152x288 with 2 Axes>"
      ]
     },
     "metadata": {
      "needs_background": "light"
     },
     "output_type": "display_data"
    },
    {
     "name": "stdout",
     "output_type": "stream",
     "text": [
      "Nilai Skew :  -0.4848843574273096\n",
      "\n"
     ]
    },
    {
     "data": {
      "image/png": "[encoded data removed]",
      "text/plain": [
       "<Figure size 1152x288 with 2 Axes>"
      ]
     },
     "metadata": {
      "needs_background": "light"
     },
     "output_type": "display_data"
    },
    {
     "name": "stdout",
     "output_type": "stream",
     "text": [
      "Nilai Skew :  0.029785105154483682\n",
      "\n"
     ]
    }
   ],
   "source": [
    "for var in train.select_dtypes(np.number): #Looping semua data dtrain Numerik\n",
    "    identify_plots(train, var)\n",
    "    print('Nilai Skew : ', train[var].skew()) #Nilai skewness dari tiap data numerik \n",
    "    print()"
   ]
  },
  {
   "cell_type": "markdown",
   "metadata": {},
   "source": [
    "-   Rainfall, WindGustSpeed, WindSpeed9am, WindSpeed3pm memiliki distribusi data Skewness+ maka akan handling outliers menggunakan IQR batas atas.\n",
    "-   MinTemp, MaxTemp, Humidity9am, Humidity3pm memiliki distribusi data Gaussian/Normal maka akan handling outliers menggunakan mean +- 3 * standar deviasi."
   ]
  },
  {
   "cell_type": "markdown",
   "metadata": {},
   "source": [
    "### Outliers Detection"
   ]
  },
  {
   "cell_type": "code",
   "execution_count": 25,
   "metadata": {},
   "outputs": [],
   "source": [
    "#Membuat function untuk menemukan batas atas dan batas bawah menggunakan mean +- 3 * standard deviasi.\n",
    "def find_normal_boundaries(df, variable):\n",
    "    upper_boundary_normal = df[variable].mean() + 3 * df[variable].std() # batas atas normal\n",
    "    lower_boundary_normal = df[variable].mean() - 3 * df[variable].std() # batas bawah normal\n",
    "\n",
    "    return upper_boundary_normal, lower_boundary_normal"
   ]
  },
  {
   "cell_type": "code",
   "execution_count": 26,
   "metadata": {},
   "outputs": [],
   "source": [
    "#Membuat function untuk menemukan batas atas dan batas bawah menggunakan IQR\n",
    "def find_skewed_boundaries(df, variable, distance):\n",
    "    IQR = df[variable].quantile(0.75) - df[variable].quantile(0.25) #IQR = Q3 - Q1\n",
    "\n",
    "    lower_boundary_skew = df[variable].quantile(0.25) - (IQR * distance) #batas bawah skew\n",
    "    upper_boundary_skew = df[variable].quantile(0.75) + (IQR * distance) #batas atas skew\n",
    "\n",
    "    return upper_boundary_skew, lower_boundary_skew"
   ]
  },
  {
   "cell_type": "code",
   "execution_count": 27,
   "metadata": {},
   "outputs": [
    {
     "data": {
      "text/html": [
       "<div>\n",
       "<style scoped>\n",
       "    .dataframe tbody tr th:only-of-type {\n",
       "        vertical-align: middle;\n",
       "    }\n",
       "\n",
       "    .dataframe tbody tr th {\n",
       "        vertical-align: top;\n",
       "    }\n",
       "\n",
       "    .dataframe thead th {\n",
       "        text-align: right;\n",
       "    }\n",
       "</style>\n",
       "<table border=\"1\" class=\"dataframe\">\n",
       "  <thead>\n",
       "    <tr style=\"text-align: right;\">\n",
       "      <th></th>\n",
       "      <th>Date</th>\n",
       "      <th>Location</th>\n",
       "      <th>MinTemp</th>\n",
       "      <th>MaxTemp</th>\n",
       "      <th>Rainfall</th>\n",
       "      <th>WindGustDir</th>\n",
       "      <th>WindGustSpeed</th>\n",
       "      <th>WindDir9am</th>\n",
       "      <th>WindDir3pm</th>\n",
       "      <th>WindSpeed9am</th>\n",
       "      <th>WindSpeed3pm</th>\n",
       "      <th>Humidity9am</th>\n",
       "      <th>Humidity3pm</th>\n",
       "      <th>RainToday</th>\n",
       "      <th>RainTomorrow</th>\n",
       "    </tr>\n",
       "  </thead>\n",
       "  <tbody>\n",
       "    <tr>\n",
       "      <th>115987</th>\n",
       "      <td>2012-08-12</td>\n",
       "      <td>PerthAirport</td>\n",
       "      <td>13.9</td>\n",
       "      <td>18.2</td>\n",
       "      <td>0.0</td>\n",
       "      <td>SW</td>\n",
       "      <td>57.0</td>\n",
       "      <td>N</td>\n",
       "      <td>WNW</td>\n",
       "      <td>17.0</td>\n",
       "      <td>30.0</td>\n",
       "      <td>94.0</td>\n",
       "      <td>84.0</td>\n",
       "      <td>No</td>\n",
       "      <td>Yes</td>\n",
       "    </tr>\n",
       "    <tr>\n",
       "      <th>49142</th>\n",
       "      <td>2012-10-29</td>\n",
       "      <td>Tuggeranong</td>\n",
       "      <td>6.1</td>\n",
       "      <td>23.8</td>\n",
       "      <td>0.0</td>\n",
       "      <td>WSW</td>\n",
       "      <td>28.0</td>\n",
       "      <td>SW</td>\n",
       "      <td>WNW</td>\n",
       "      <td>6.0</td>\n",
       "      <td>15.0</td>\n",
       "      <td>75.0</td>\n",
       "      <td>29.0</td>\n",
       "      <td>No</td>\n",
       "      <td>No</td>\n",
       "    </tr>\n",
       "    <tr>\n",
       "      <th>141894</th>\n",
       "      <td>2016-08-29</td>\n",
       "      <td>Uluru</td>\n",
       "      <td>14.2</td>\n",
       "      <td>14.4</td>\n",
       "      <td>9.2</td>\n",
       "      <td>WSW</td>\n",
       "      <td>31.0</td>\n",
       "      <td>SW</td>\n",
       "      <td>ESE</td>\n",
       "      <td>24.0</td>\n",
       "      <td>9.0</td>\n",
       "      <td>93.0</td>\n",
       "      <td>100.0</td>\n",
       "      <td>Yes</td>\n",
       "      <td>Yes</td>\n",
       "    </tr>\n",
       "  </tbody>\n",
       "</table>\n",
       "</div>"
      ],
      "text/plain": [
       "              Date      Location  MinTemp  MaxTemp  Rainfall WindGustDir  \\\n",
       "115987  2012-08-12  PerthAirport     13.9     18.2       0.0          SW   \n",
       "49142   2012-10-29   Tuggeranong      6.1     23.8       0.0         WSW   \n",
       "141894  2016-08-29         Uluru     14.2     14.4       9.2         WSW   \n",
       "\n",
       "        WindGustSpeed WindDir9am WindDir3pm  WindSpeed9am  WindSpeed3pm  \\\n",
       "115987           57.0          N        WNW          17.0          30.0   \n",
       "49142            28.0         SW        WNW           6.0          15.0   \n",
       "141894           31.0         SW        ESE          24.0           9.0   \n",
       "\n",
       "        Humidity9am  Humidity3pm RainToday RainTomorrow  \n",
       "115987         94.0         84.0        No          Yes  \n",
       "49142          75.0         29.0        No           No  \n",
       "141894         93.0        100.0       Yes          Yes  "
      ]
     },
     "execution_count": 27,
     "metadata": {},
     "output_type": "execute_result"
    }
   ],
   "source": [
    "train.head(3)"
   ]
  },
  {
   "cell_type": "markdown",
   "metadata": {},
   "source": [
    "#### Outliers Detection for Normal Distribution"
   ]
  },
  {
   "cell_type": "markdown",
   "metadata": {},
   "source": [
    "MinTemp"
   ]
  },
  {
   "cell_type": "code",
   "execution_count": 28,
   "metadata": {},
   "outputs": [
    {
     "data": {
      "text/plain": [
       "(31.393469840446976, -7.010019201521537)"
      ]
     },
     "execution_count": 28,
     "metadata": {},
     "output_type": "execute_result"
    }
   ],
   "source": [
    "# Melihat batas atas dan batas bawah variable MinTemp\n",
    "MinTemp_upper_boundary_normal, MinTemp_lower_boundary_normal = find_normal_boundaries(train, 'MinTemp')\n",
    "MinTemp_upper_boundary_normal, MinTemp_lower_boundary_normal"
   ]
  },
  {
   "cell_type": "code",
   "execution_count": 29,
   "metadata": {},
   "outputs": [
    {
     "name": "stdout",
     "output_type": "stream",
     "text": [
      "Jumlah data MinTemp diatas 31.39   : 6\n",
      "Jumlah data MinTemp dibawah -7.01   : 11\n",
      "\n",
      "% Jumlah data MinTemp diatas 31.39 : 0.005274539796402764\n",
      "% Jumlah data MinTemp dibawah -7.01 : 0.009669989626738401\n"
     ]
    }
   ],
   "source": [
    "# Melihat jumlah dan percent data outliers variable MinTemp\n",
    "print('Jumlah data MinTemp diatas 31.39   : {}'.format(len(train[train['MinTemp'] > MinTemp_upper_boundary_normal])))\n",
    "print('Jumlah data MinTemp dibawah -7.01   : {}'.format(len(train[train['MinTemp'] < MinTemp_lower_boundary_normal])))\n",
    "print()\n",
    "print('% Jumlah data MinTemp diatas 31.39 : {}'.format(len(train[train['MinTemp'] > MinTemp_upper_boundary_normal])/len(train) * 100))\n",
    "print('% Jumlah data MinTemp dibawah -7.01 : {}'.format(len(train[train['MinTemp'] < MinTemp_lower_boundary_normal])/len(train) * 100))"
   ]
  },
  {
   "cell_type": "markdown",
   "metadata": {},
   "source": [
    "Outliers dari MinTemp adalah 0.01% , maka akan dilakukan Trimming"
   ]
  },
  {
   "cell_type": "markdown",
   "metadata": {},
   "source": [
    "MaxTemp"
   ]
  },
  {
   "cell_type": "code",
   "execution_count": 30,
   "metadata": {},
   "outputs": [
    {
     "data": {
      "text/plain": [
       "(44.57826632196738, 1.864861051359739)"
      ]
     },
     "execution_count": 30,
     "metadata": {},
     "output_type": "execute_result"
    }
   ],
   "source": [
    "# Melihat batas atas dan batas bawah variable MaxTemp\n",
    "MaxTemp_upper_boundary_normal, MaxTemp_lower_boundary_normal = find_normal_boundaries(train, 'MaxTemp')\n",
    "MaxTemp_upper_boundary_normal, MaxTemp_lower_boundary_normal"
   ]
  },
  {
   "cell_type": "code",
   "execution_count": 31,
   "metadata": {},
   "outputs": [
    {
     "name": "stdout",
     "output_type": "stream",
     "text": [
      "Jumlah data MaxTemp diatas 31.39   : 59\n",
      "Jumlah data MaxTemp dibawah -7.01   : 191\n",
      "\n",
      "% Jumlah data MaxTemp diatas 31.39 : 0.05186630799796051\n",
      "% Jumlah data MaxTemp dibawah -7.01 : 0.16790618351882133\n"
     ]
    }
   ],
   "source": [
    "# Melihat jumlah dan percent data outliers variable MaxTemp\n",
    "print('Jumlah data MaxTemp diatas 31.39   : {}'.format(len(train[train['MaxTemp'] > MaxTemp_upper_boundary_normal])))\n",
    "print('Jumlah data MaxTemp dibawah -7.01   : {}'.format(len(train[train['MaxTemp'] < MaxTemp_lower_boundary_normal])))\n",
    "print()\n",
    "print('% Jumlah data MaxTemp diatas 31.39 : {}'.format(len(train[train['MaxTemp'] > MaxTemp_upper_boundary_normal])/len(train) * 100))\n",
    "print('% Jumlah data MaxTemp dibawah -7.01 : {}'.format(len(train[train['MaxTemp'] < MaxTemp_lower_boundary_normal])/len(train) * 100))"
   ]
  },
  {
   "cell_type": "markdown",
   "metadata": {},
   "source": [
    "Outliers dari MaxTemp adalah 0.21% , maka akan dilakukan Trimming."
   ]
  },
  {
   "cell_type": "markdown",
   "metadata": {},
   "source": [
    "Humidity9am"
   ]
  },
  {
   "cell_type": "code",
   "execution_count": 32,
   "metadata": {},
   "outputs": [
    {
     "data": {
      "text/plain": [
       "(126.00891922574581, 11.710084771441025)"
      ]
     },
     "execution_count": 32,
     "metadata": {},
     "output_type": "execute_result"
    }
   ],
   "source": [
    "# Melihat batas atas dan batas bawah variable Humidity9am\n",
    "Humidity9am_upper_boundary_normal, Humidity9am_lower_boundary_normal = find_normal_boundaries(train, 'Humidity9am')\n",
    "Humidity9am_upper_boundary_normal, Humidity9am_lower_boundary_normal"
   ]
  },
  {
   "cell_type": "code",
   "execution_count": 33,
   "metadata": {},
   "outputs": [
    {
     "name": "stdout",
     "output_type": "stream",
     "text": [
      "Jumlah data Humidity9am diatas 126.00   : 0\n",
      "Jumlah data Humidity9am dibawah -11.71   : 366\n",
      "\n",
      "% Jumlah data Humidity9am diatas 126.00 : 0.0\n",
      "% Jumlah data Humidity9am dibawah -11.71 : 0.3217469275805686\n"
     ]
    }
   ],
   "source": [
    "# Melihat jumlah dan percent data outliers variable Humidity9am\n",
    "print('Jumlah data Humidity9am diatas 126.00   : {}'.format(len(train[train['Humidity9am'] > Humidity9am_upper_boundary_normal])))\n",
    "print('Jumlah data Humidity9am dibawah -11.71   : {}'.format(len(train[train['Humidity9am'] < Humidity9am_lower_boundary_normal])))\n",
    "print()\n",
    "print('% Jumlah data Humidity9am diatas 126.00 : {}'.format(len(train[train['Humidity9am'] > Humidity9am_upper_boundary_normal])/len(train) * 100))\n",
    "print('% Jumlah data Humidity9am dibawah -11.71 : {}'.format(len(train[train['Humidity9am'] < Humidity9am_lower_boundary_normal])/len(train) * 100))"
   ]
  },
  {
   "cell_type": "markdown",
   "metadata": {},
   "source": [
    "Outliers dari Humidity9am adalah 0.3%, maka akan dilakukan Trimming."
   ]
  },
  {
   "cell_type": "markdown",
   "metadata": {},
   "source": [
    "Humidity3pm"
   ]
  },
  {
   "cell_type": "code",
   "execution_count": 34,
   "metadata": {},
   "outputs": [
    {
     "data": {
      "text/plain": [
       "(113.9439940736689, -10.869838148681758)"
      ]
     },
     "execution_count": 34,
     "metadata": {},
     "output_type": "execute_result"
    }
   ],
   "source": [
    "# Melihat batas atas dan batas bawah variable Humidity3pm\n",
    "Humidity3pm_upper_boundary_normal, Humidity3pm_lower_boundary_normal = find_normal_boundaries(train, 'Humidity3pm')\n",
    "Humidity3pm_upper_boundary_normal, Humidity3pm_lower_boundary_normal"
   ]
  },
  {
   "cell_type": "code",
   "execution_count": 35,
   "metadata": {},
   "outputs": [
    {
     "name": "stdout",
     "output_type": "stream",
     "text": [
      "Jumlah data Humidity3pm diatas 126.00   : 0\n",
      "Jumlah data Humidity3pm dibawah -11.71   : 0\n",
      "\n",
      "% Jumlah data Humidity3pm diatas 126.00 : 0.0\n",
      "% Jumlah data Humidity3pm dibawah -11.71 : 0.0\n"
     ]
    }
   ],
   "source": [
    "# Melihat jumlah dan percent data outliers variable Humidity3pm\n",
    "print('Jumlah data Humidity3pm diatas 126.00   : {}'.format(len(train[train['Humidity3pm'] > Humidity3pm_upper_boundary_normal])))\n",
    "print('Jumlah data Humidity3pm dibawah -11.71   : {}'.format(len(train[train['Humidity3pm'] < Humidity3pm_lower_boundary_normal])))\n",
    "print()\n",
    "print('% Jumlah data Humidity3pm diatas 126.00 : {}'.format(len(train[train['Humidity3pm'] > Humidity3pm_upper_boundary_normal])/len(train) * 100))\n",
    "print('% Jumlah data Humidity3pm dibawah -11.71 : {}'.format(len(train[train['Humidity3pm'] < Humidity3pm_lower_boundary_normal])/len(train) * 100))"
   ]
  },
  {
   "cell_type": "markdown",
   "metadata": {},
   "source": [
    "Tidak terdapat Outliers pada fitur Humidty3pm"
   ]
  },
  {
   "cell_type": "markdown",
   "metadata": {},
   "source": [
    "#### Outliers Detection for Skewed+ Distribution"
   ]
  },
  {
   "cell_type": "markdown",
   "metadata": {},
   "source": [
    "Rainfall"
   ]
  },
  {
   "cell_type": "code",
   "execution_count": 36,
   "metadata": {},
   "outputs": [
    {
     "data": {
      "text/plain": [
       "(2.0, -1.2000000000000002)"
      ]
     },
     "execution_count": 36,
     "metadata": {},
     "output_type": "execute_result"
    }
   ],
   "source": [
    "# Melihat batas atas dan batas bawah variable Rainfall\n",
    "Rainfall_upper_boundary_skew, Rainfall_lower_boundary_skew = find_skewed_boundaries(train, 'Rainfall', 1.5)\n",
    "Rainfall_upper_boundary_skew, Rainfall_lower_boundary_skew"
   ]
  },
  {
   "cell_type": "code",
   "execution_count": 37,
   "metadata": {},
   "outputs": [
    {
     "name": "stdout",
     "output_type": "stream",
     "text": [
      "Jumlah data Rainfall diatas 2.0   : 20295\n",
      "% Jumlah data Rainfall diatas 2.0 : 17.84113086133235\n"
     ]
    }
   ],
   "source": [
    "# Melihat jumlah dan percent data outliers variable Rainfall\n",
    "print('Jumlah data Rainfall diatas 2.0   : {}'.format(len(train[train['Rainfall'] > Rainfall_upper_boundary_skew])))\n",
    "print('% Jumlah data Rainfall diatas 2.0 : {}'.format(len(train[train['Rainfall'] > Rainfall_upper_boundary_skew])/len(train) * 100))"
   ]
  },
  {
   "cell_type": "markdown",
   "metadata": {},
   "source": [
    "Outliers Rainfall adalah 17% maka akan dibiarkan tidak perlu dilakukan Handling Outliers"
   ]
  },
  {
   "cell_type": "markdown",
   "metadata": {},
   "source": [
    "WindGustSpeed"
   ]
  },
  {
   "cell_type": "code",
   "execution_count": 38,
   "metadata": {},
   "outputs": [
    {
     "data": {
      "text/plain": [
       "(73.5, 5.5)"
      ]
     },
     "execution_count": 38,
     "metadata": {},
     "output_type": "execute_result"
    }
   ],
   "source": [
    "# Melihat batas atas dan batas bawah variable WindGustSpeed\n",
    "WindGustSpeed_upper_boundary_skew, WindGustSpeed_lower_boundary_skew = find_skewed_boundaries(train, 'WindGustSpeed', 1.5)\n",
    "WindGustSpeed_upper_boundary_skew, WindGustSpeed_lower_boundary_skew"
   ]
  },
  {
   "cell_type": "code",
   "execution_count": 39,
   "metadata": {},
   "outputs": [
    {
     "name": "stdout",
     "output_type": "stream",
     "text": [
      "Jumlah data WindGustSpeed diatas 73.5   : 2391\n",
      "% Jumlah data WindGustSpeed diatas 73.5 : 2.1019041088665014\n"
     ]
    }
   ],
   "source": [
    "# Melihat jumlah dan percent data outliers variable WindGustSpeed\n",
    "print('Jumlah data WindGustSpeed diatas 73.5   : {}'.format(len(train[train['WindGustSpeed'] > WindGustSpeed_upper_boundary_skew])))\n",
    "print('% Jumlah data WindGustSpeed diatas 73.5 : {}'.format(len(train[train['WindGustSpeed'] > WindGustSpeed_upper_boundary_skew])/len(train) * 100))"
   ]
  },
  {
   "cell_type": "markdown",
   "metadata": {},
   "source": [
    "Outliers WindGustSpeed adalah 2% maka akan dilakukan Trimming."
   ]
  },
  {
   "cell_type": "markdown",
   "metadata": {},
   "source": [
    "WindSpeed9am"
   ]
  },
  {
   "cell_type": "code",
   "execution_count": 40,
   "metadata": {},
   "outputs": [
    {
     "data": {
      "text/plain": [
       "(37.0, -11.0)"
      ]
     },
     "execution_count": 40,
     "metadata": {},
     "output_type": "execute_result"
    }
   ],
   "source": [
    "# Melihat batas atas dan batas bawah variable WindSpeed9am\n",
    "WindSpeed9am_upper_boundary_skew, WindSpeed9am_lower_boundary_skew = find_skewed_boundaries(train, 'WindSpeed9am', 1.5)\n",
    "WindSpeed9am_upper_boundary_skew, WindSpeed9am_lower_boundary_skew"
   ]
  },
  {
   "cell_type": "code",
   "execution_count": 41,
   "metadata": {},
   "outputs": [
    {
     "name": "stdout",
     "output_type": "stream",
     "text": [
      "Jumlah data WindSpeed9am diatas 73.5   : 1376\n",
      "% Jumlah data WindSpeed9am diatas 73.5 : 1.2096277933083672\n"
     ]
    }
   ],
   "source": [
    "# Melihat jumlah dan percent data outliers variable WindSpeed9am\n",
    "print('Jumlah data WindSpeed9am diatas 73.5   : {}'.format(len(train[train['WindSpeed9am'] > WindSpeed9am_upper_boundary_skew])))\n",
    "print('% Jumlah data WindSpeed9am diatas 73.5 : {}'.format(len(train[train['WindSpeed9am'] > WindSpeed9am_upper_boundary_skew])/len(train) * 100))"
   ]
  },
  {
   "cell_type": "markdown",
   "metadata": {},
   "source": [
    "Outliers WindSpeed9am adalah 1.2% maka akan dilakukan Trimming."
   ]
  },
  {
   "cell_type": "markdown",
   "metadata": {},
   "source": [
    "WindSpeed3pm"
   ]
  },
  {
   "cell_type": "code",
   "execution_count": 42,
   "metadata": {},
   "outputs": [
    {
     "data": {
      "text/plain": [
       "(40.5, -3.5)"
      ]
     },
     "execution_count": 42,
     "metadata": {},
     "output_type": "execute_result"
    }
   ],
   "source": [
    "# Melihat batas atas dan batas bawah variable WindSpeed3pm\n",
    "WindSpeed3pm_upper_boundary_skew, WindSpeed3pm_lower_boundary_skew = find_skewed_boundaries(train, 'WindSpeed3pm', 1.5)\n",
    "WindSpeed3pm_upper_boundary_skew, WindSpeed3pm_lower_boundary_skew"
   ]
  },
  {
   "cell_type": "code",
   "execution_count": 43,
   "metadata": {},
   "outputs": [
    {
     "name": "stdout",
     "output_type": "stream",
     "text": [
      "Jumlah data WindSpeed3pm diatas 73.5   : 1978\n",
      "% Jumlah data WindSpeed3pm diatas 73.5 : 1.7388399528807779\n"
     ]
    }
   ],
   "source": [
    "# Melihat jumlah dan percent data outliers variable WindSpeed3pm\n",
    "print('Jumlah data WindSpeed3pm diatas 73.5   : {}'.format(len(train[train['WindSpeed3pm'] > WindSpeed3pm_upper_boundary_skew])))\n",
    "print('% Jumlah data WindSpeed3pm diatas 73.5 : {}'.format(len(train[train['WindSpeed3pm'] > WindSpeed3pm_upper_boundary_skew])/len(train) * 100))"
   ]
  },
  {
   "cell_type": "markdown",
   "metadata": {},
   "source": [
    "Outliers WindSpeed3pm adalah 1.7% maka akan dilakukan Trimming."
   ]
  },
  {
   "cell_type": "markdown",
   "metadata": {},
   "source": [
    "Kesimpulan Outliers Detection  \n",
    "-   MinTemp 0.01% , MaxTemp 0.21%, Humidity9am 0.3%, WindGustSpeed 2%, WindSpeed9am 0.3%, WindSpeed3pm 1.7%, maka akan dilakukan Trimming\n",
    "-   Rainfall 17% maka akan dibiarkan\n",
    "-   Humidity3pm tidak memiliki Outliers"
   ]
  },
  {
   "cell_type": "markdown",
   "metadata": {},
   "source": [
    "### Trimming "
   ]
  },
  {
   "cell_type": "code",
   "execution_count": 44,
   "metadata": {},
   "outputs": [
    {
     "name": "stdout",
     "output_type": "stream",
     "text": [
      "[False False False False False False False False False False]\n"
     ]
    }
   ],
   "source": [
    "#Normal\n",
    "# Menandai Outliers di variable 'MinTemp'\n",
    "outliers_MinTemp = np.where(train['MinTemp'] > MinTemp_upper_boundary_normal, True,\n",
    "                       np.where(train['MinTemp'] < MinTemp_lower_boundary_normal, True, False))\n",
    "\n",
    "# Menandai Outliers di variable 'MaxTemp'\n",
    "outliers_MaxTemp = np.where(train['MaxTemp'] > MaxTemp_upper_boundary_normal, True,\n",
    "                       np.where(train['MaxTemp'] < MaxTemp_lower_boundary_normal, True, False))\n",
    "\n",
    "# Menandai Outliers di variable 'Humidity9am'\n",
    "outliers_Humidity9am = np.where(train['Humidity9am'] > Humidity9am_upper_boundary_normal, True,\n",
    "                       np.where(train['Humidity9am'] < Humidity9am_lower_boundary_normal, True, False))\n",
    "\n",
    "#Skew\n",
    "# Menandai Outliers di variable 'WindGustSpeed'\n",
    "outliers_WindGustSpeed = np.where(train['WindGustSpeed'] > WindGustSpeed_upper_boundary_skew, True,\n",
    "                       np.where(train['WindGustSpeed'] < WindGustSpeed_lower_boundary_skew, True, False))\n",
    "\n",
    "# Menandai Outliers di variable 'WindSpeed9am'\n",
    "outliers_WindSpeed9am = np.where(train['WindSpeed9am'] > WindSpeed9am_upper_boundary_skew, True,\n",
    "                       np.where(train['WindSpeed9am'] < WindSpeed9am_lower_boundary_skew, True, False))\n",
    "\n",
    "# Menandai Outliers di variable 'WindSpeed3pm'\n",
    "outliers_WindSpeed3pm = np.where(train['WindSpeed3pm'] > WindSpeed3pm_upper_boundary_skew, True,\n",
    "                       np.where(train['WindSpeed3pm'] < WindSpeed3pm_lower_boundary_skew, True, False))\n",
    "\n",
    "\n",
    "print(outliers_MinTemp[:10])"
   ]
  },
  {
   "cell_type": "code",
   "execution_count": 45,
   "metadata": {},
   "outputs": [
    {
     "name": "stdout",
     "output_type": "stream",
     "text": [
      "Data Train - Before trimming :  (113754, 15)\n",
      "Data Train - After trimming  :  (108909, 15)\n"
     ]
    }
   ],
   "source": [
    "#Menghapus Outliers\n",
    "train_trimmed = train.loc[~(outliers_MinTemp + outliers_MaxTemp + outliers_Humidity9am + outliers_WindGustSpeed + outliers_WindSpeed9am + outliers_WindSpeed3pm)] \n",
    "\n",
    "#Melihat Jumlah Data sebelum dan sesudah dilakukan Trimming\n",
    "print('Data Train - Before trimming : ', train.shape) \n",
    "print('Data Train - After trimming  : ', train_trimmed.shape)"
   ]
  },
  {
   "cell_type": "markdown",
   "metadata": {},
   "source": [
    "#### Cek setelah dilakukan Trimming"
   ]
  },
  {
   "cell_type": "code",
   "execution_count": 46,
   "metadata": {},
   "outputs": [
    {
     "name": "stdout",
     "output_type": "stream",
     "text": [
      "MinTemp - Before Trimming\n"
     ]
    },
    {
     "data": {
      "image/png": "[encoded data removed]",
      "text/plain": [
       "<Figure size 1152x288 with 2 Axes>"
      ]
     },
     "metadata": {
      "needs_background": "light"
     },
     "output_type": "display_data"
    },
    {
     "name": "stdout",
     "output_type": "stream",
     "text": [
      "\n",
      "MinTemp - After Trimming\n"
     ]
    },
    {
     "data": {
      "image/png": "[encoded data removed]",
      "text/plain": [
       "<Figure size 1152x288 with 2 Axes>"
      ]
     },
     "metadata": {
      "needs_background": "light"
     },
     "output_type": "display_data"
    },
    {
     "name": "stdout",
     "output_type": "stream",
     "text": [
      "WindGustSpeed - Before Trimming\n"
     ]
    },
    {
     "data": {
      "image/png": "[encoded data removed]",
      "text/plain": [
       "<Figure size 1152x288 with 2 Axes>"
      ]
     },
     "metadata": {
      "needs_background": "light"
     },
     "output_type": "display_data"
    },
    {
     "name": "stdout",
     "output_type": "stream",
     "text": [
      "\n",
      "WindGustSpeed - After Trimming\n"
     ]
    },
    {
     "data": {
      "image/png": "[encoded data removed]",
      "text/plain": [
       "<Figure size 1152x288 with 2 Axes>"
      ]
     },
     "metadata": {
      "needs_background": "light"
     },
     "output_type": "display_data"
    }
   ],
   "source": [
    "# Cek Sebelum Trimmed dan setelah Trimmed `MinTemp` dan `WindGustSpeed'\n",
    "\n",
    "#Normal\n",
    "print('MinTemp - Before Trimming')\n",
    "identify_plots(train, 'MinTemp')\n",
    "print('\\nMinTemp - After Trimming')\n",
    "identify_plots(train_trimmed, 'MinTemp')\n",
    "\n",
    "#Skewness\n",
    "print('WindGustSpeed - Before Trimming')\n",
    "identify_plots(train, 'WindGustSpeed')\n",
    "print('\\nWindGustSpeed - After Trimming')\n",
    "identify_plots(train_trimmed, 'WindGustSpeed')"
   ]
  },
  {
   "cell_type": "code",
   "execution_count": 47,
   "metadata": {},
   "outputs": [
    {
     "name": "stdout",
     "output_type": "stream",
     "text": [
      "Jumlah data MinTemp diatas 31.39   : 0\n",
      "Jumlah data MinTemp dibawah -7.01   : 0\n",
      "% Jumlah data MinTemp diatas 31.39 : 0.0\n",
      "% Jumlah data MinTemp dibawah -7.01 : 0.0\n",
      "\n",
      "Jumlah data WindGustSpeed diatas 73.5   : 0\n",
      "% Jumlah data WindGustSpeed diatas 73.5 : 0.0\n"
     ]
    }
   ],
   "source": [
    "#cek outliers setelah dilakukan trimming\n",
    "\n",
    "# Melihat jumlah dan percent data outliers variable MinTemp setelah dilakukan trimming\n",
    "print('Jumlah data MinTemp diatas 31.39   : {}'.format(len(train_trimmed[train_trimmed['MinTemp'] > MinTemp_upper_boundary_normal])))\n",
    "print('Jumlah data MinTemp dibawah -7.01   : {}'.format(len(train_trimmed[train_trimmed['MinTemp'] < MinTemp_lower_boundary_normal])))\n",
    "print('% Jumlah data MinTemp diatas 31.39 : {}'.format(len(train_trimmed[train_trimmed['MinTemp'] > MinTemp_upper_boundary_normal])/len(train_trimmed) * 100))\n",
    "print('% Jumlah data MinTemp dibawah -7.01 : {}'.format(len(train_trimmed[train_trimmed['MinTemp'] < MinTemp_lower_boundary_normal])/len(train_trimmed) * 100))\n",
    "print()\n",
    "# Melihat jumlah dan percent data outliers variable WindGustSpeed setelah dilakukan trimming\n",
    "print('Jumlah data WindGustSpeed diatas 73.5   : {}'.format(len(train_trimmed[train_trimmed['WindGustSpeed'] > WindGustSpeed_upper_boundary_skew])))\n",
    "print('% Jumlah data WindGustSpeed diatas 73.5 : {}'.format(len(train_trimmed[train_trimmed['WindGustSpeed'] > WindGustSpeed_upper_boundary_skew])/len(train_trimmed) * 100))"
   ]
  },
  {
   "cell_type": "markdown",
   "metadata": {},
   "source": [
    "Dapat dilihat bahwa sudah tidak ada Outliers, artinya handling outliers telah berhasil."
   ]
  },
  {
   "cell_type": "markdown",
   "metadata": {},
   "source": [
    "## Pipeline for Handling Missing Value, Handling Scalling, Handling Encoding"
   ]
  },
  {
   "cell_type": "code",
   "execution_count": 48,
   "metadata": {},
   "outputs": [],
   "source": [
    "# Mendefinikan Target\n",
    "\n",
    "# untuk Train data\n",
    "X_train = train_trimmed.drop(columns=['RainTomorrow']) #Fitur\n",
    "y_train = train_trimmed['RainTomorrow'].replace({'No' : 0, 'Yes' : 1}) #Target\n",
    "\n",
    "# untuk Test data\n",
    "X_test = test.drop(columns=['RainTomorrow']) #Fitur\n",
    "y_test = test['RainTomorrow'].replace({'No' : 0, 'Yes' : 1}) #Target\n"
   ]
  },
  {
   "cell_type": "code",
   "execution_count": 49,
   "metadata": {},
   "outputs": [
    {
     "data": {
      "text/plain": [
       "115987    1\n",
       "49142     0\n",
       "141894    1\n",
       "49294     0\n",
       "33451     0\n",
       "         ..\n",
       "34812     1\n",
       "34877     0\n",
       "75971     0\n",
       "131650    0\n",
       "104152    0\n",
       "Name: RainTomorrow, Length: 113754, dtype: int64"
      ]
     },
     "execution_count": 49,
     "metadata": {},
     "output_type": "execute_result"
    }
   ],
   "source": [
    "y_train"
   ]
  },
  {
   "cell_type": "code",
   "execution_count": 50,
   "metadata": {},
   "outputs": [
    {
     "data": {
      "text/plain": [
       "(113754, 14)"
      ]
     },
     "execution_count": 50,
     "metadata": {},
     "output_type": "execute_result"
    }
   ],
   "source": [
    "X_train.shape"
   ]
  },
  {
   "cell_type": "code",
   "execution_count": 52,
   "metadata": {},
   "outputs": [
    {
     "data": {
      "text/plain": [
       "(['Location', 'WindGustDir', 'WindDir9am', 'WindDir3pm', 'RainToday'],\n",
       " ['MinTemp',\n",
       "  'MaxTemp',\n",
       "  'Rainfall',\n",
       "  'WindGustSpeed',\n",
       "  'WindSpeed9am',\n",
       "  'WindSpeed3pm',\n",
       "  'Humidity9am',\n",
       "  'Humidity3pm'])"
      ]
     },
     "execution_count": 52,
     "metadata": {},
     "output_type": "execute_result"
    }
   ],
   "source": [
    "# Membuat Numerical dan Categorical Columns\n",
    "\n",
    "num_col = X_train.select_dtypes(include=np.number).columns.tolist() \n",
    "cat_col = X_train[['Location', 'WindGustDir', 'WindDir9am', 'WindDir3pm', 'RainToday']].columns.tolist()\n",
    "# cat_col = X_train.select_dtypes(include='object').columns.tolist()\n",
    "# date_col = X_train['Date'].columns.tolist()\n",
    "# date_col\n",
    "cat_col, num_col"
   ]
  },
  {
   "cell_type": "code",
   "execution_count": 54,
   "metadata": {},
   "outputs": [],
   "source": [
    "# Pipeline untuk tipe data Numeric lalu dilakukan scalling\n",
    "numeric_prep = Pipeline(\n",
    "    steps=[('imputer', SimpleImputer(strategy='median')),\n",
    "            ('scaler', StandardScaler())]\n",
    ")\n",
    "\n",
    "# Pipeline untuk tipe data categorical lalu dilakukan Encoding\n",
    "Categorical_prep = Pipeline(\n",
    "    steps=[('imputer', SimpleImputer(strategy='most_frequent')),\n",
    "            ('encode', OneHotEncoder())]\n",
    ")"
   ]
  },
  {
   "cell_type": "code",
   "execution_count": 55,
   "metadata": {},
   "outputs": [],
   "source": [
    "#Membuat Pipeline Preprocessing gabungan antara pipeline numerical dan categorical\n",
    "preprocessor = ColumnTransformer(\n",
    "    transformers=[\n",
    "        ('num', numeric_prep, num_col ),\n",
    "        ('cat', Categorical_prep, cat_col)\n",
    "    ]\n",
    ")"
   ]
  },
  {
   "cell_type": "code",
   "execution_count": 56,
   "metadata": {},
   "outputs": [
    {
     "data": {
      "text/plain": [
       "ColumnTransformer(transformers=[('num',\n",
       "                                 Pipeline(steps=[('imputer',\n",
       "                                                  SimpleImputer(strategy='median')),\n",
       "                                                 ('scaler', StandardScaler())]),\n",
       "                                 ['MinTemp', 'MaxTemp', 'Rainfall',\n",
       "                                  'WindGustSpeed', 'WindSpeed9am',\n",
       "                                  'WindSpeed3pm', 'Humidity9am',\n",
       "                                  'Humidity3pm']),\n",
       "                                ('cat',\n",
       "                                 Pipeline(steps=[('imputer',\n",
       "                                                  SimpleImputer(strategy='most_frequent')),\n",
       "                                                 ('encode', OneHotEncoder())]),\n",
       "                                 ['Location', 'WindGustDir', 'WindDir9am',\n",
       "                                  'WindDir3pm', 'RainToday'])])"
      ]
     },
     "execution_count": 56,
     "metadata": {},
     "output_type": "execute_result"
    }
   ],
   "source": [
    "preprocessor.fit(X_train)\n"
   ]
  },
  {
   "cell_type": "code",
   "execution_count": 57,
   "metadata": {},
   "outputs": [
    {
     "data": {
      "text/plain": [
       "<28439x107 sparse matrix of type '<class 'numpy.float64'>'\n",
       "\twith 369707 stored elements in Compressed Sparse Row format>"
      ]
     },
     "execution_count": 57,
     "metadata": {},
     "output_type": "execute_result"
    }
   ],
   "source": [
    "preprocessor.transform(X_test)"
   ]
  },
  {
   "cell_type": "markdown",
   "metadata": {},
   "source": [
    "# Model Definition"
   ]
  },
  {
   "cell_type": "code",
   "execution_count": 58,
   "metadata": {},
   "outputs": [],
   "source": [
    "#Membuat Model Logistic Regression\n",
    "# Model Logistic Regression dan pipeline preprocessing dimasukan kedalam satu Pipeline model\n",
    "pipe_logreg = Pipeline([\n",
    "    ('prep', preprocessor),\n",
    "    ('logreg', LogisticRegression())\n",
    "])\n",
    "\n"
   ]
  },
  {
   "cell_type": "code",
   "execution_count": 59,
   "metadata": {},
   "outputs": [
    {
     "data": {
      "text/plain": [
       "Pipeline(steps=[('prep',\n",
       "                 ColumnTransformer(transformers=[('num',\n",
       "                                                  Pipeline(steps=[('imputer',\n",
       "                                                                   SimpleImputer(strategy='median')),\n",
       "                                                                  ('scaler',\n",
       "                                                                   StandardScaler())]),\n",
       "                                                  ['MinTemp', 'MaxTemp',\n",
       "                                                   'Rainfall', 'WindGustSpeed',\n",
       "                                                   'WindSpeed9am',\n",
       "                                                   'WindSpeed3pm',\n",
       "                                                   'Humidity9am',\n",
       "                                                   'Humidity3pm']),\n",
       "                                                 ('cat',\n",
       "                                                  Pipeline(steps=[('imputer',\n",
       "                                                                   SimpleImputer(strategy='most_frequent')),\n",
       "                                                                  ('encode',\n",
       "                                                                   OneHotEncoder())]),\n",
       "                                                  ['Location', 'WindGustDir',\n",
       "                                                   'WindDir9am', 'WindDir3pm',\n",
       "                                                   'RainToday'])])),\n",
       "                ('logreg', LogisticRegression())])"
      ]
     },
     "execution_count": 59,
     "metadata": {},
     "output_type": "execute_result"
    }
   ],
   "source": [
    "pipe_logreg.fit(X_train, y_train)"
   ]
  },
  {
   "cell_type": "code",
   "execution_count": 60,
   "metadata": {},
   "outputs": [],
   "source": [
    "#Membuat Model SVM\n",
    "# Model SVM dan pipeline preprocessing dimasukan kedalam satu Pipeline model\n",
    "pipe_svm = Pipeline([\n",
    "    ('prep', preprocessor),\n",
    "    ('svm', SVC())\n",
    "])"
   ]
  },
  {
   "cell_type": "markdown",
   "metadata": {},
   "source": [
    "# Model Evaluation"
   ]
  },
  {
   "cell_type": "code",
   "execution_count": 61,
   "metadata": {},
   "outputs": [],
   "source": [
    "MLA = [pipe_logreg, pipe_svm]"
   ]
  },
  {
   "cell_type": "code",
   "execution_count": 62,
   "metadata": {},
   "outputs": [],
   "source": [
    "from sklearn.metrics import accuracy_score, precision_score, recall_score, f1_score"
   ]
  },
  {
   "cell_type": "code",
   "execution_count": 63,
   "metadata": {},
   "outputs": [],
   "source": [
    "# Predict & Evaluation score\n",
    "name = []\n",
    "train_accuracy = []\n",
    "test_accuracy = []\n",
    "precision = []\n",
    "recall = []\n",
    "f1score = []\n",
    "test_score = []\n",
    "for alg in MLA:\n",
    "    name.append(alg)\n",
    "    alg.fit(X_train, y_train)\n",
    "    y_pred_train = alg.predict(X_train)\n",
    "    y_pred_test = alg.predict(X_test)\n",
    "    train_accuracy.append(accuracy_score(y_train, y_pred_train))\n",
    "    test_accuracy.append(accuracy_score(y_test, y_pred_test))\n",
    "    precision.append(precision_score(y_test, y_pred_test))\n",
    "    recall.append(recall_score(y_test, y_pred_test))\n",
    "    f1score.append(f1_score(y_test, y_pred_test))\n",
    "\n",
    "compare = pd.DataFrame({'Name': name, 'Train Acuuracy': train_accuracy, 'Test Accuracy': test_accuracy, 'Precission Score': precision, 'Recall Score': recall, 'F1 Score': f1score})"
   ]
  },
  {
   "cell_type": "code",
   "execution_count": 64,
   "metadata": {},
   "outputs": [
    {
     "data": {
      "text/html": [
       "<div>\n",
       "<style scoped>\n",
       "    .dataframe tbody tr th:only-of-type {\n",
       "        vertical-align: middle;\n",
       "    }\n",
       "\n",
       "    .dataframe tbody tr th {\n",
       "        vertical-align: top;\n",
       "    }\n",
       "\n",
       "    .dataframe thead th {\n",
       "        text-align: right;\n",
       "    }\n",
       "</style>\n",
       "<table border=\"1\" class=\"dataframe\">\n",
       "  <thead>\n",
       "    <tr style=\"text-align: right;\">\n",
       "      <th></th>\n",
       "      <th>Name</th>\n",
       "      <th>Train Acuuracy</th>\n",
       "      <th>Test Accuracy</th>\n",
       "      <th>Precission Score</th>\n",
       "      <th>Recall Score</th>\n",
       "      <th>F1 Score</th>\n",
       "      <th>Test Score</th>\n",
       "    </tr>\n",
       "  </thead>\n",
       "  <tbody>\n",
       "    <tr>\n",
       "      <th>0</th>\n",
       "      <td>(ColumnTransformer(transformers=[('num',\\n    ...</td>\n",
       "      <td>0.843724</td>\n",
       "      <td>0.842786</td>\n",
       "      <td>0.731636</td>\n",
       "      <td>0.469590</td>\n",
       "      <td>0.572030</td>\n",
       "      <td>0.842786</td>\n",
       "    </tr>\n",
       "    <tr>\n",
       "      <th>1</th>\n",
       "      <td>(ColumnTransformer(transformers=[('num',\\n    ...</td>\n",
       "      <td>0.867266</td>\n",
       "      <td>0.853124</td>\n",
       "      <td>0.796527</td>\n",
       "      <td>0.461418</td>\n",
       "      <td>0.584337</td>\n",
       "      <td>0.853124</td>\n",
       "    </tr>\n",
       "  </tbody>\n",
       "</table>\n",
       "</div>"
      ],
      "text/plain": [
       "                                                Name  Train Acuuracy  \\\n",
       "0  (ColumnTransformer(transformers=[('num',\\n    ...        0.843724   \n",
       "1  (ColumnTransformer(transformers=[('num',\\n    ...        0.867266   \n",
       "\n",
       "   Test Accuracy  Precission Score  Recall Score  F1 Score  Test Score  \n",
       "0       0.842786          0.731636      0.469590  0.572030    0.842786  \n",
       "1       0.853124          0.796527      0.461418  0.584337    0.853124  "
      ]
     },
     "execution_count": 64,
     "metadata": {},
     "output_type": "execute_result"
    }
   ],
   "source": [
    "compare"
   ]
  },
  {
   "cell_type": "markdown",
   "metadata": {},
   "source": [
    "indeks 0 = Model Logistic Regression  \n",
    "indeks 1 = Model Support Vector Machine Classifier  \n",
    "Salah code pada name, tetapi saya yakin dengan urutannya karna menggunakan for loop dia akan looping satu-satu berdasarkan urutan, jika saya ulang code name terlalu lama komputasi svm-nya."
   ]
  },
  {
   "cell_type": "markdown",
   "metadata": {},
   "source": [
    "Dari hasil Evaluation Model tersebut, bahwa SVM memiliki accuracy test 0.85 yang lebih tinggi daripada Logistic Regression 0.84 perbedaan yang tidak signifikan, oleh karena itu saya akan memilih model Logistic Regression karena komputasi SVM terlalu lama bisa mencapai 30 menit untuk sekali komputasi sedangkan Logistic Regression hanya 2 menit. "
   ]
  },
  {
   "cell_type": "markdown",
   "metadata": {},
   "source": [
    "## Cross Validation Score"
   ]
  },
  {
   "cell_type": "code",
   "execution_count": 65,
   "metadata": {},
   "outputs": [
    {
     "data": {
      "text/plain": [
       "0.8417664997998886"
      ]
     },
     "execution_count": 65,
     "metadata": {},
     "output_type": "execute_result"
    }
   ],
   "source": [
    "cv_result = cross_val_score(pipe_logreg, X_test, y_test, scoring='accuracy', cv=10)\n",
    "cv_result.mean()"
   ]
  },
  {
   "cell_type": "markdown",
   "metadata": {},
   "source": [
    "Hasil dari Cross Validation adalah 0.84 berarti Accuracy score sudah tepat."
   ]
  },
  {
   "cell_type": "markdown",
   "metadata": {},
   "source": [
    "# Hyperparameter Tuning"
   ]
  },
  {
   "cell_type": "code",
   "execution_count": 66,
   "metadata": {},
   "outputs": [],
   "source": [
    "#Membuat list parameter-parameter yang akan di gridsearch atau mencari best parameter\n",
    "param_grid = [\n",
    "    {'logreg__penalty' : ['l2','none'],\n",
    "    'logreg__C' : np.logspace(-4, 4, 10),\n",
    "    'logreg__solver' : ['liblinear','saga'],\n",
    "    'logreg__max_iter' : [100, 1000]}]"
   ]
  },
  {
   "cell_type": "code",
   "execution_count": 68,
   "metadata": {},
   "outputs": [],
   "source": [
    "#Melakukan Gridsearch atau pencarian best parameter terhadap model logistic regression\n",
    "clf = GridSearchCV(pipe_logreg, param_grid = param_grid, cv = 3, verbose=True, n_jobs=-1)"
   ]
  },
  {
   "cell_type": "code",
   "execution_count": 69,
   "metadata": {},
   "outputs": [
    {
     "name": "stdout",
     "output_type": "stream",
     "text": [
      "Fitting 3 folds for each of 80 candidates, totalling 240 fits\n"
     ]
    }
   ],
   "source": [
    "# Train Gridsearch atau pencarian best parameter terhadap dataset ini.\n",
    "best_clf = clf.fit(X_train,y_train)"
   ]
  },
  {
   "cell_type": "code",
   "execution_count": 70,
   "metadata": {},
   "outputs": [
    {
     "data": {
      "text/plain": [
       "{'logreg__C': 0.0001,\n",
       " 'logreg__max_iter': 1000,\n",
       " 'logreg__penalty': 'none',\n",
       " 'logreg__solver': 'saga'}"
      ]
     },
     "execution_count": 70,
     "metadata": {},
     "output_type": "execute_result"
    }
   ],
   "source": [
    "#melihat best parameter\n",
    "best_clf.best_params_"
   ]
  },
  {
   "cell_type": "code",
   "execution_count": 71,
   "metadata": {},
   "outputs": [
    {
     "data": {
      "text/plain": [
       "0.8432582590502312"
      ]
     },
     "execution_count": 71,
     "metadata": {},
     "output_type": "execute_result"
    }
   ],
   "source": [
    "#melihat best score \n",
    "best_clf.best_score_"
   ]
  },
  {
   "cell_type": "code",
   "execution_count": 72,
   "metadata": {},
   "outputs": [],
   "source": [
    "#membuat model dengan best estimatornya\n",
    "best_logreg = best_clf.best_estimator_"
   ]
  },
  {
   "cell_type": "code",
   "execution_count": 73,
   "metadata": {},
   "outputs": [],
   "source": [
    "#membandingkan evaluation model dari model best parameter dengan base model\n",
    "ML = [pipe_logreg, best_logreg]\n",
    "\n",
    "# Predict & Evaluation score\n",
    "name = []\n",
    "train_accuracy = []\n",
    "test_accuracy = []\n",
    "precision = []\n",
    "recall = []\n",
    "f1score = []\n",
    "test_score = []\n",
    "for alg in ML:\n",
    "    name.append(alg)\n",
    "    alg.fit(X_train, y_train)\n",
    "    y_pred_train = alg.predict(X_train)\n",
    "    y_pred_test = alg.predict(X_test)\n",
    "    train_accuracy.append(accuracy_score(y_train, y_pred_train))\n",
    "    test_accuracy.append(accuracy_score(y_test, y_pred_test))\n",
    "    precision.append(precision_score(y_test, y_pred_test))\n",
    "    recall.append(recall_score(y_test, y_pred_test))\n",
    "    f1score.append(f1_score(y_test, y_pred_test))\n",
    "    test_score.append(alg.score(X_test, y_test))\n",
    "\n",
    "compare = pd.DataFrame({'Name': name, 'Train Acuuracy': train_accuracy, 'Test Accuracy': test_accuracy, 'Precission Score': precision, 'Recall Score': recall, 'F1 Score': f1score, 'Test Score': test_score})"
   ]
  },
  {
   "cell_type": "code",
   "execution_count": 74,
   "metadata": {},
   "outputs": [
    {
     "data": {
      "text/html": [
       "<div>\n",
       "<style scoped>\n",
       "    .dataframe tbody tr th:only-of-type {\n",
       "        vertical-align: middle;\n",
       "    }\n",
       "\n",
       "    .dataframe tbody tr th {\n",
       "        vertical-align: top;\n",
       "    }\n",
       "\n",
       "    .dataframe thead th {\n",
       "        text-align: right;\n",
       "    }\n",
       "</style>\n",
       "<table border=\"1\" class=\"dataframe\">\n",
       "  <thead>\n",
       "    <tr style=\"text-align: right;\">\n",
       "      <th></th>\n",
       "      <th>Name</th>\n",
       "      <th>Train Acuuracy</th>\n",
       "      <th>Test Accuracy</th>\n",
       "      <th>Precission Score</th>\n",
       "      <th>Recall Score</th>\n",
       "      <th>F1 Score</th>\n",
       "      <th>Test Score</th>\n",
       "    </tr>\n",
       "  </thead>\n",
       "  <tbody>\n",
       "    <tr>\n",
       "      <th>0</th>\n",
       "      <td>(ColumnTransformer(transformers=[('num',\\n    ...</td>\n",
       "      <td>0.843724</td>\n",
       "      <td>0.842786</td>\n",
       "      <td>0.731636</td>\n",
       "      <td>0.469590</td>\n",
       "      <td>0.572030</td>\n",
       "      <td>0.842786</td>\n",
       "    </tr>\n",
       "    <tr>\n",
       "      <th>1</th>\n",
       "      <td>(ColumnTransformer(transformers=[('num',\\n    ...</td>\n",
       "      <td>0.843777</td>\n",
       "      <td>0.842786</td>\n",
       "      <td>0.731976</td>\n",
       "      <td>0.469118</td>\n",
       "      <td>0.571784</td>\n",
       "      <td>0.842786</td>\n",
       "    </tr>\n",
       "  </tbody>\n",
       "</table>\n",
       "</div>"
      ],
      "text/plain": [
       "                                                Name  Train Acuuracy  \\\n",
       "0  (ColumnTransformer(transformers=[('num',\\n    ...        0.843724   \n",
       "1  (ColumnTransformer(transformers=[('num',\\n    ...        0.843777   \n",
       "\n",
       "   Test Accuracy  Precission Score  Recall Score  F1 Score  Test Score  \n",
       "0       0.842786          0.731636      0.469590  0.572030    0.842786  \n",
       "1       0.842786          0.731976      0.469118  0.571784    0.842786  "
      ]
     },
     "execution_count": 74,
     "metadata": {},
     "output_type": "execute_result"
    }
   ],
   "source": [
    "compare"
   ]
  },
  {
   "cell_type": "markdown",
   "metadata": {},
   "source": [
    "Setelah menggunakan Best Parameter untuk model Logistic Regression, hasilnya tidak ada perbedaan signifikan."
   ]
  },
  {
   "cell_type": "markdown",
   "metadata": {},
   "source": [
    "# Model Inference"
   ]
  },
  {
   "cell_type": "markdown",
   "metadata": {},
   "source": [
    "Prediksi dari data inference yang diambil dari dataset"
   ]
  },
  {
   "cell_type": "code",
   "execution_count": 75,
   "metadata": {},
   "outputs": [
    {
     "data": {
      "text/html": [
       "<div>\n",
       "<style scoped>\n",
       "    .dataframe tbody tr th:only-of-type {\n",
       "        vertical-align: middle;\n",
       "    }\n",
       "\n",
       "    .dataframe tbody tr th {\n",
       "        vertical-align: top;\n",
       "    }\n",
       "\n",
       "    .dataframe thead th {\n",
       "        text-align: right;\n",
       "    }\n",
       "</style>\n",
       "<table border=\"1\" class=\"dataframe\">\n",
       "  <thead>\n",
       "    <tr style=\"text-align: right;\">\n",
       "      <th></th>\n",
       "      <th>Prediction</th>\n",
       "    </tr>\n",
       "  </thead>\n",
       "  <tbody>\n",
       "    <tr>\n",
       "      <th>0</th>\n",
       "      <td>0</td>\n",
       "    </tr>\n",
       "    <tr>\n",
       "      <th>1</th>\n",
       "      <td>0</td>\n",
       "    </tr>\n",
       "    <tr>\n",
       "      <th>2</th>\n",
       "      <td>0</td>\n",
       "    </tr>\n",
       "    <tr>\n",
       "      <th>3</th>\n",
       "      <td>0</td>\n",
       "    </tr>\n",
       "    <tr>\n",
       "      <th>4</th>\n",
       "      <td>0</td>\n",
       "    </tr>\n",
       "    <tr>\n",
       "      <th>5</th>\n",
       "      <td>0</td>\n",
       "    </tr>\n",
       "    <tr>\n",
       "      <th>6</th>\n",
       "      <td>0</td>\n",
       "    </tr>\n",
       "    <tr>\n",
       "      <th>7</th>\n",
       "      <td>0</td>\n",
       "    </tr>\n",
       "    <tr>\n",
       "      <th>8</th>\n",
       "      <td>1</td>\n",
       "    </tr>\n",
       "    <tr>\n",
       "      <th>9</th>\n",
       "      <td>0</td>\n",
       "    </tr>\n",
       "    <tr>\n",
       "      <th>10</th>\n",
       "      <td>0</td>\n",
       "    </tr>\n",
       "    <tr>\n",
       "      <th>11</th>\n",
       "      <td>0</td>\n",
       "    </tr>\n",
       "    <tr>\n",
       "      <th>12</th>\n",
       "      <td>0</td>\n",
       "    </tr>\n",
       "    <tr>\n",
       "      <th>13</th>\n",
       "      <td>0</td>\n",
       "    </tr>\n",
       "    <tr>\n",
       "      <th>14</th>\n",
       "      <td>0</td>\n",
       "    </tr>\n",
       "    <tr>\n",
       "      <th>15</th>\n",
       "      <td>0</td>\n",
       "    </tr>\n",
       "    <tr>\n",
       "      <th>16</th>\n",
       "      <td>0</td>\n",
       "    </tr>\n",
       "    <tr>\n",
       "      <th>17</th>\n",
       "      <td>0</td>\n",
       "    </tr>\n",
       "    <tr>\n",
       "      <th>18</th>\n",
       "      <td>0</td>\n",
       "    </tr>\n",
       "    <tr>\n",
       "      <th>19</th>\n",
       "      <td>1</td>\n",
       "    </tr>\n",
       "  </tbody>\n",
       "</table>\n",
       "</div>"
      ],
      "text/plain": [
       "    Prediction\n",
       "0            0\n",
       "1            0\n",
       "2            0\n",
       "3            0\n",
       "4            0\n",
       "5            0\n",
       "6            0\n",
       "7            0\n",
       "8            1\n",
       "9            0\n",
       "10           0\n",
       "11           0\n",
       "12           0\n",
       "13           0\n",
       "14           0\n",
       "15           0\n",
       "16           0\n",
       "17           0\n",
       "18           0\n",
       "19           1"
      ]
     },
     "execution_count": 75,
     "metadata": {},
     "output_type": "execute_result"
    }
   ],
   "source": [
    "y_pred_inf = best_logreg.predict(inf)\n",
    "y_pred_inf = pd.DataFrame(y_pred_inf, columns=['Prediction'])\n",
    "y_pred_inf.head(20)"
   ]
  },
  {
   "cell_type": "markdown",
   "metadata": {},
   "source": [
    "Prediksi untuk menjawab kasus Doni."
   ]
  },
  {
   "cell_type": "code",
   "execution_count": 76,
   "metadata": {},
   "outputs": [],
   "source": [
    "#Membuat Dictionary yang akan dijadikan dataframe berdasarkan kasus Doni.\n",
    "cuaca_hari_ini = [{\n",
    "    'Date': '2022-02-13',\n",
    "    'Location': 'NorfolkIsland',\n",
    "    'MinTemp' : 15.9,\n",
    "    'MaxTemp' : 21.9,\n",
    "    'Rainfall' : 0.6,\n",
    "    'Evaporation' : 4.6,\n",
    "    'WindGustDir' : 'W',\n",
    "    'WindGustSpeed' : 54.0,\n",
    "    'WindDir9am': 'W',\n",
    "    'WindDir3pm' : 'WNW',\n",
    "    'WindSpeed9am': 24.0,\n",
    "    'WindSpeed3pm': 22.0,\n",
    "    'distance': 3.4,\n",
    "    'Humidity9am': 61.0,\n",
    "    'Humidity3pm': 75.0,\n",
    "    'Pressure9am': 1013.6,\n",
    "    'Pressure3pm': 1010.4,\n",
    "    'Cloud9am': np.nan,\n",
    "    'Cloud3pm': 8.0,\n",
    "    'Temp9am': 20.9,\n",
    "    'Temp3pm': 20.3,\n",
    "    'RainToday': 'No',\n",
    "}]"
   ]
  },
  {
   "cell_type": "code",
   "execution_count": 77,
   "metadata": {},
   "outputs": [
    {
     "data": {
      "text/html": [
       "<div>\n",
       "<style scoped>\n",
       "    .dataframe tbody tr th:only-of-type {\n",
       "        vertical-align: middle;\n",
       "    }\n",
       "\n",
       "    .dataframe tbody tr th {\n",
       "        vertical-align: top;\n",
       "    }\n",
       "\n",
       "    .dataframe thead th {\n",
       "        text-align: right;\n",
       "    }\n",
       "</style>\n",
       "<table border=\"1\" class=\"dataframe\">\n",
       "  <thead>\n",
       "    <tr style=\"text-align: right;\">\n",
       "      <th></th>\n",
       "      <th>Date</th>\n",
       "      <th>Location</th>\n",
       "      <th>MinTemp</th>\n",
       "      <th>MaxTemp</th>\n",
       "      <th>Rainfall</th>\n",
       "      <th>Evaporation</th>\n",
       "      <th>WindGustDir</th>\n",
       "      <th>WindGustSpeed</th>\n",
       "      <th>WindDir9am</th>\n",
       "      <th>WindDir3pm</th>\n",
       "      <th>WindSpeed9am</th>\n",
       "      <th>WindSpeed3pm</th>\n",
       "      <th>distance</th>\n",
       "      <th>Humidity9am</th>\n",
       "      <th>Humidity3pm</th>\n",
       "      <th>Pressure9am</th>\n",
       "      <th>Pressure3pm</th>\n",
       "      <th>Cloud9am</th>\n",
       "      <th>Cloud3pm</th>\n",
       "      <th>Temp9am</th>\n",
       "      <th>Temp3pm</th>\n",
       "      <th>RainToday</th>\n",
       "    </tr>\n",
       "  </thead>\n",
       "  <tbody>\n",
       "    <tr>\n",
       "      <th>0</th>\n",
       "      <td>2022-02-13</td>\n",
       "      <td>NorfolkIsland</td>\n",
       "      <td>15.9</td>\n",
       "      <td>21.9</td>\n",
       "      <td>0.6</td>\n",
       "      <td>4.6</td>\n",
       "      <td>W</td>\n",
       "      <td>54.0</td>\n",
       "      <td>W</td>\n",
       "      <td>WNW</td>\n",
       "      <td>24.0</td>\n",
       "      <td>22.0</td>\n",
       "      <td>3.4</td>\n",
       "      <td>61.0</td>\n",
       "      <td>75.0</td>\n",
       "      <td>1013.6</td>\n",
       "      <td>1010.4</td>\n",
       "      <td>NaN</td>\n",
       "      <td>8.0</td>\n",
       "      <td>20.9</td>\n",
       "      <td>20.3</td>\n",
       "      <td>No</td>\n",
       "    </tr>\n",
       "  </tbody>\n",
       "</table>\n",
       "</div>"
      ],
      "text/plain": [
       "         Date       Location  MinTemp  MaxTemp  Rainfall  Evaporation  \\\n",
       "0  2022-02-13  NorfolkIsland     15.9     21.9       0.6          4.6   \n",
       "\n",
       "  WindGustDir  WindGustSpeed WindDir9am WindDir3pm  WindSpeed9am  \\\n",
       "0           W           54.0          W        WNW          24.0   \n",
       "\n",
       "   WindSpeed3pm  distance  Humidity9am  Humidity3pm  Pressure9am  Pressure3pm  \\\n",
       "0          22.0       3.4         61.0         75.0       1013.6       1010.4   \n",
       "\n",
       "   Cloud9am  Cloud3pm  Temp9am  Temp3pm RainToday  \n",
       "0       NaN       8.0     20.9     20.3        No  "
      ]
     },
     "execution_count": 77,
     "metadata": {},
     "output_type": "execute_result"
    }
   ],
   "source": [
    "#Kasus doni dijadikan sebuah dataframe\n",
    "cuaca_hari_ini = pd.DataFrame(cuaca_hari_ini)\n",
    "cuaca_hari_ini"
   ]
  },
  {
   "cell_type": "code",
   "execution_count": 78,
   "metadata": {},
   "outputs": [
    {
     "data": {
      "text/html": [
       "<div>\n",
       "<style scoped>\n",
       "    .dataframe tbody tr th:only-of-type {\n",
       "        vertical-align: middle;\n",
       "    }\n",
       "\n",
       "    .dataframe tbody tr th {\n",
       "        vertical-align: top;\n",
       "    }\n",
       "\n",
       "    .dataframe thead th {\n",
       "        text-align: right;\n",
       "    }\n",
       "</style>\n",
       "<table border=\"1\" class=\"dataframe\">\n",
       "  <thead>\n",
       "    <tr style=\"text-align: right;\">\n",
       "      <th></th>\n",
       "      <th>Prediction</th>\n",
       "      <th>Keputusan Doni</th>\n",
       "    </tr>\n",
       "  </thead>\n",
       "  <tbody>\n",
       "    <tr>\n",
       "      <th>0</th>\n",
       "      <td>1</td>\n",
       "      <td>Sewa Mobil</td>\n",
       "    </tr>\n",
       "  </tbody>\n",
       "</table>\n",
       "</div>"
      ],
      "text/plain": [
       "   Prediction Keputusan Doni\n",
       "0           1     Sewa Mobil"
      ]
     },
     "execution_count": 78,
     "metadata": {},
     "output_type": "execute_result"
    }
   ],
   "source": [
    "#prediksi kasus Doni\n",
    "y_pred_besok = best_logreg.predict(cuaca_hari_ini)\n",
    "#Jadikan sebuah dataframe\n",
    "y_pred_besok = pd.DataFrame(y_pred_besok, columns=['Prediction'])\n",
    "\n",
    "#Jika hasil prediksi 0 maka besok tidak akan hujan\n",
    "y_pred_besok.loc[y_pred_besok['Prediction'] == 0, 'Keputusan Doni'] = 'Pakai Motor' \n",
    "#Jika hasil prediksi 1 maka besok harus membawa payung\n",
    "y_pred_besok.loc[y_pred_besok['Prediction'] != 0, 'Keputusan Doni'] = 'Sewa Mobil'  \n",
    " \n",
    "y_pred_besok\n"
   ]
  },
  {
   "cell_type": "markdown",
   "metadata": {},
   "source": [
    "Untuk menjawab kasus doni diatas, maka Doni harus segera memesan sewa mobil dari sekarang untuk bepergian besok."
   ]
  },
  {
   "cell_type": "markdown",
   "metadata": {},
   "source": [
    "# Conclussion"
   ]
  },
  {
   "cell_type": "markdown",
   "metadata": {},
   "source": [
    "-   Model\n",
    "    -   Setelah melakukan perbandingan base model antara Logistic Regression dengan Support Vector Machine, Support Vector Machine memiliki accuracy lebih tinggi dari Logistic Regression namun hanya memiliki perbedaan yang sedikit. Oleh karena itu, saya lebih memilih Logistic Regression karna Support Vector Machine komputasinya sangat lama bisa mencapai 30 menit sedangkan Logistic Regression hanya 2 menit dan memiliki accuracy lebih kecil sedikit dari Support Vector Machine.\n",
    "    -   Setelah mendapat base model terbaik, saya lakukan hyperparameter tuning dari base model terbaik tersebut, namun hasil accuracy setalah menggunakan best parameter tidak berpengaruh signifikan.  \n",
    "    -   Model yang saya buat hanya memiliki accuracy 0.84, model cukup baik untuk kasus ini, namun harus dioptimisasi lagi agar memiliki accuracy lebih baik.  "
   ]
  },
  {
   "cell_type": "markdown",
   "metadata": {},
   "source": [
    "-   Problem\n",
    "    -   Suatu hari Doni berencana berkencan dengan pacarnya besok pada tanggal 14-Februari-2022. Doni berencana berkencan menggunakan motor tetapi doni ragu apakah besok akan turun hujan, jika besok turun hujan doni harus booking sewa mobil pada hari ini. Oleh karena itu, doni meminta tolong saya untuk memprediksi apakah besok akan turun hujan atau tidak.\n",
    "-   Objective\n",
    "    -   Saya akan memprediksi masalah doni menggunakan machine learning classification model SVM atau Logistic Regression, dengan mempelajari pola Cuaca Hujan disana menggunakan dataset weather-rain-AUS.\n",
    "-   Objective Result\n",
    "    -   Doni harus segera booking sewa mobil untuk bepergian besok, karena prediksi dari model yang saya buat besok akan turun hujan."
   ]
  }
 ],
 "metadata": {
  "interpreter": {
   "hash": "247ab06e135bb35fa78c5eff31b2a9a0050dcb5fb773c2631d2a29ac689eeccb"
  },
  "kernelspec": {
   "display_name": "Python 3.9.9 64-bit",
   "language": "python",
   "name": "python3"
  },
  "language_info": {
   "codemirror_mode": {
    "name": "ipython",
    "version": 3
   },
   "file_extension": ".py",
   "mimetype": "text/x-python",
   "name": "python",
   "nbconvert_exporter": "python",
   "pygments_lexer": "ipython3",
   "version": "3.9.9"
  },
  "orig_nbformat": 4
 },
 "nbformat": 4,
 "nbformat_minor": 2
}
